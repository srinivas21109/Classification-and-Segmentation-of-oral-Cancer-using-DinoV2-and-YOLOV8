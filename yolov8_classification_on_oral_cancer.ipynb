{
  "cells": [
    {
      "cell_type": "markdown",
      "metadata": {
        "id": "oe9vkEvFABbN"
      },
      "source": [
        "[![Roboflow Notebooks](https://media.roboflow.com/notebooks/template/bannertest2-2.png?ik-sdk-version=javascript-1.4.3&updatedAt=1672932710194)](https://github.com/roboflow/notebooks)\n",
        "\n",
        "# How to Train YOLOv8 Classification on a Custom Dataset\n",
        "\n",
        "---\n",
        "\n",
        "[![Roboflow](https://raw.githubusercontent.com/roboflow-ai/notebooks/main/assets/badges/roboflow-blogpost.svg)](https://blog.roboflow.com/how-to-train-yolov8-on-a-custom-dataset)\n",
        "[![YouTube](https://badges.aleen42.com/src/youtube.svg)](https://youtu.be/wuZtUMEiKWY)\n",
        "[![GitHub](https://badges.aleen42.com/src/github.svg)](https://github.com/ultralytics/ultralytics)\n",
        "\n",
        "Ultralytics YOLOv8 is the latest version of the YOLO (You Only Look Once) object detection and image segmentation model developed by Ultralytics. The YOLOv8 model is designed to be fast, accurate, and easy to use, making it an excellent choice for a wide range of object detection and image segmentation tasks. It can be trained on large datasets and is capable of running on a variety of hardware platforms, from CPUs to GPUs.\n",
        "\n",
        "## ⚠️ Disclaimer\n",
        "\n",
        "As of 18.01.2023, YOLOv8 Classification seems a tad underdeveloped. It is possible to train models, but their usability is questionable. Known problems include:\n",
        "- The model pre-trained on the Imagenet dataset operates on the id of classes not their names. Only after custom post-processing can you find out how the image was classified.\n",
        "- No detailed training data available. At this point, it is almost standard to save information such as confusion matrix or graphs of key metrics after a training session is completed. YOLOv8 offers this feature but for the moment only for Object Detection and Instance Segmentation.\n",
        "- In the case of the CLI, there is no saving of the prediction in text form. They are annotated on the image, which in practice makes it impossible to build any application using them.\n",
        "- With SDK, a difficult-to-interpret matrix is returned instead of a vector of probabilities. Only after custom post-processing can you find out how the image was classified.\n",
        "\n",
        "## Accompanying Blog Post\n",
        "\n",
        "We recommend that you follow along in this notebook while reading the blog post on how to train YOLOv8 Classification, concurrently.\n",
        "\n",
        "## Pro Tip: Use GPU Acceleration\n",
        "\n",
        "If you are running this notebook in Google Colab, navigate to `Edit` -> `Notebook settings` -> `Hardware accelerator`, set it to `GPU`, and then click `Save`. This will ensure your notebook uses a GPU, which will significantly speed up model training times.\n",
        "\n",
        "## Steps in this Tutorial\n",
        "\n",
        "In this tutorial, we are going to cover:\n",
        "\n",
        "- Before you start\n",
        "- Install YOLOv8\n",
        "- CLI Basics\n",
        "- Inference with Pre-trained COCO Model\n",
        "- Roboflow Universe\n",
        "- Preparing a custom dataset\n",
        "- Custom Training\n",
        "- Validate Custom Model\n",
        "- Inference with Custom Model\n",
        "\n",
        "**Let's begin!**"
      ]
    },
    {
      "cell_type": "markdown",
      "metadata": {
        "id": "FyRdDYkqAKN4"
      },
      "source": [
        "## Before you start\n",
        "\n",
        "Let's make sure that we have access to GPU. We can use `nvidia-smi` command to do that. In case of any problems navigate to `Edit` -> `Notebook settings` -> `Hardware accelerator`, set it to `GPU`, and then click `Save`."
      ]
    },
    {
      "cell_type": "code",
      "execution_count": null,
      "metadata": {
        "colab": {
          "base_uri": "https://localhost:8080/"
        },
        "id": "Y8cDtxLIBHgQ",
        "outputId": "d165e2f1-62a5-4d78-be1a-434160521762"
      },
      "outputs": [
        {
          "output_type": "stream",
          "name": "stdout",
          "text": [
            "Thu Apr  4 03:36:18 2024       \n",
            "+---------------------------------------------------------------------------------------+\n",
            "| NVIDIA-SMI 535.104.05             Driver Version: 535.104.05   CUDA Version: 12.2     |\n",
            "|-----------------------------------------+----------------------+----------------------+\n",
            "| GPU  Name                 Persistence-M | Bus-Id        Disp.A | Volatile Uncorr. ECC |\n",
            "| Fan  Temp   Perf          Pwr:Usage/Cap |         Memory-Usage | GPU-Util  Compute M. |\n",
            "|                                         |                      |               MIG M. |\n",
            "|=========================================+======================+======================|\n",
            "|   0  Tesla T4                       Off | 00000000:00:04.0 Off |                    0 |\n",
            "| N/A   58C    P8              10W /  70W |      0MiB / 15360MiB |      0%      Default |\n",
            "|                                         |                      |                  N/A |\n",
            "+-----------------------------------------+----------------------+----------------------+\n",
            "                                                                                         \n",
            "+---------------------------------------------------------------------------------------+\n",
            "| Processes:                                                                            |\n",
            "|  GPU   GI   CI        PID   Type   Process name                            GPU Memory |\n",
            "|        ID   ID                                                             Usage      |\n",
            "|=======================================================================================|\n",
            "|  No running processes found                                                           |\n",
            "+---------------------------------------------------------------------------------------+\n"
          ]
        }
      ],
      "source": [
        "!nvidia-smi"
      ]
    },
    {
      "cell_type": "code",
      "execution_count": null,
      "metadata": {
        "colab": {
          "base_uri": "https://localhost:8080/"
        },
        "id": "CjpPg4mGKc1v",
        "outputId": "15ed03d0-8c9d-4dc5-8d35-baf69adedc6b"
      },
      "outputs": [
        {
          "output_type": "stream",
          "name": "stdout",
          "text": [
            "/content\n"
          ]
        }
      ],
      "source": [
        "import os\n",
        "HOME = os.getcwd()\n",
        "print(HOME)"
      ]
    },
    {
      "cell_type": "markdown",
      "metadata": {
        "id": "3C3EO_2zNChu"
      },
      "source": [
        "## Install YOLOv8\n",
        "\n",
        "⚠️ YOLOv8 is still under heavy development. Breaking changes are being introduced almost weekly. We strive to make our YOLOv8 notebooks work with the latest version of the library. Last tests took place on **18.01.2023** with version **YOLOv8.0.9**.\n",
        "\n",
        "If you notice that our notebook behaves incorrectly - especially if you experience errors that prevent you from going through the tutorial - don't hesitate! Let us know and open an [issue](https://github.com/roboflow/notebooks/issues) on the Roboflow Notebooks repository.\n",
        "\n",
        "YOLOv8 can be installed in two ways - from the source and via pip. This is because it is the first iteration of YOLO to have an official package."
      ]
    },
    {
      "cell_type": "code",
      "execution_count": null,
      "metadata": {
        "colab": {
          "base_uri": "https://localhost:8080/"
        },
        "id": "tdSMcABDNKW-",
        "outputId": "0f952612-70aa-4132-82a0-19ecaee4a042"
      },
      "outputs": [
        {
          "output_type": "stream",
          "name": "stdout",
          "text": [
            "Ultralytics YOLOv8.1.42 🚀 Python-3.10.12 torch-2.2.1+cu121 CUDA:0 (Tesla T4, 15102MiB)\n",
            "Setup complete ✅ (2 CPUs, 12.7 GB RAM, 29.1/78.2 GB disk)\n"
          ]
        }
      ],
      "source": [
        "# Pip install method (recommended)\n",
        "\n",
        "!pip install ultralytics\n",
        "\n",
        "from IPython import display\n",
        "display.clear_output()\n",
        "\n",
        "import ultralytics\n",
        "ultralytics.checks()"
      ]
    },
    {
      "cell_type": "code",
      "execution_count": null,
      "metadata": {
        "id": "iVvaIYEEPOty"
      },
      "outputs": [],
      "source": [
        "# Git clone method (for development)\n",
        "\n",
        "# %cd {HOME}\n",
        "# !git clone github.com/ultralytics/ultralytics\n",
        "# %cd {HOME}/ultralytics\n",
        "# !pip install -e .\n",
        "\n",
        "# from IPython import display\n",
        "# display.clear_output()\n",
        "\n",
        "# import ultralytics\n",
        "# ultralytics.checks()"
      ]
    },
    {
      "cell_type": "code",
      "execution_count": null,
      "metadata": {
        "id": "VOEYrlBoP9-E"
      },
      "outputs": [],
      "source": [
        "from ultralytics import YOLO\n",
        "from IPython.display import display, Image"
      ]
    },
    {
      "cell_type": "markdown",
      "metadata": {
        "id": "HnnZSm5OQfPQ"
      },
      "source": [
        "## CLI Basics"
      ]
    },
    {
      "cell_type": "markdown",
      "metadata": {
        "id": "K33S7zlkQku0"
      },
      "source": [
        "If you want to train, validate or run inference on models and don't need to make any modifications to the code, using YOLO command line interface is the easiest way to get started. Read more about CLI in [Ultralytics YOLO Docs](https://docs.ultralytics.com/usage/cli/).\n",
        "\n",
        "```\n",
        "yolo task=detect    mode=train    model=yolov8n.yaml      args...\n",
        "          classify       predict        yolov8n-cls.yaml  args...\n",
        "          segment        val            yolov8n-seg.yaml  args...\n",
        "                         export         yolov8n.pt        format=onnx  args...\n",
        "```"
      ]
    },
    {
      "cell_type": "markdown",
      "metadata": {
        "id": "s5RGYA6sPgEd"
      },
      "source": [
        "## Inference with Pre-trained COCO Model"
      ]
    },
    {
      "cell_type": "markdown",
      "metadata": {
        "id": "fT1qD4toTTw0"
      },
      "source": [
        "### 💻 CLI"
      ]
    },
    {
      "cell_type": "markdown",
      "metadata": {
        "id": "ZaE1kLS8R4CV"
      },
      "source": [
        "`yolo mode=predict` runs YOLOv8 inference on a variety of sources, downloading models automatically from the latest YOLOv8 release, and saving results to `runs/predict`."
      ]
    },
    {
      "cell_type": "code",
      "execution_count": null,
      "metadata": {
        "colab": {
          "base_uri": "https://localhost:8080/"
        },
        "id": "FDbMt_M6PiXb",
        "outputId": "5b1133fd-e4fc-492b-f7b3-2cc31aaa3080"
      },
      "outputs": [
        {
          "output_type": "stream",
          "name": "stdout",
          "text": [
            "/content\n"
          ]
        }
      ],
      "source": [
        "%cd {HOME}\n",
        "# !yolo task=classify mode=predict model=yolov8n-cls.pt conf=0.25 source='https://media.roboflow.com/notebooks/examples/dog.jpeg'"
      ]
    },
    {
      "cell_type": "code",
      "execution_count": null,
      "metadata": {
        "colab": {
          "base_uri": "https://localhost:8080/"
        },
        "id": "LyopYpK1TQrB",
        "outputId": "d2ff7b55-7453-4a7e-b0fd-33e1fa48215a"
      },
      "outputs": [
        {
          "output_type": "stream",
          "name": "stdout",
          "text": [
            "/content\n"
          ]
        }
      ],
      "source": [
        "%cd {HOME}\n",
        "# Image(filename='runs/classify/predict/dog.jpeg', height=600)"
      ]
    },
    {
      "cell_type": "markdown",
      "metadata": {
        "id": "AFMBYQtMVL-B"
      },
      "source": [
        "### 🐍 Python SDK\n",
        "\n",
        "The simplest way of simply using YOLOv8 directly in a Python environment."
      ]
    },
    {
      "cell_type": "code",
      "execution_count": null,
      "metadata": {
        "colab": {
          "base_uri": "https://localhost:8080/"
        },
        "id": "Rx9NWF-sVN6Y",
        "outputId": "7807dad1-7b94-4080-bd64-2b44d43e567f"
      },
      "outputs": [
        {
          "output_type": "stream",
          "name": "stdout",
          "text": [
            "Downloading https://github.com/ultralytics/assets/releases/download/v8.1.0/yolov8m-cls.pt to '/content/yolov8m-cls.pt'...\n"
          ]
        },
        {
          "output_type": "stream",
          "name": "stderr",
          "text": [
            "100%|██████████| 32.7M/32.7M [00:00<00:00, 248MB/s]\n"
          ]
        }
      ],
      "source": [
        "model = YOLO(f'{HOME}/yolov8m-cls.pt')\n",
        "# results = model.predict(source='https://media.roboflow.com/notebooks/examples/dog.jpeg', conf=0.25)"
      ]
    },
    {
      "cell_type": "markdown",
      "metadata": {
        "id": "u2Xtaekw3271"
      },
      "source": [
        "## Roboflow Universe\n",
        "\n",
        "Need data for your project? Before spending time on annotating, check out Roboflow Universe, a repository of more than 110,000 open-source datasets that you can use in your projects. You'll find datasets containing everything from annotated cracks in concrete to plant images with disease annotations.\n",
        "\n",
        "\n",
        "[![Roboflow Universe](https://media.roboflow.com/notebooks/template/uni-banner-frame.png?ik-sdk-version=javascript-1.4.3&updatedAt=1672878480290)](https://universe.roboflow.com/)\n",
        "\n"
      ]
    },
    {
      "cell_type": "markdown",
      "metadata": {
        "id": "6JHICVjZbVKn"
      },
      "source": [
        "## Preparing a custom dataset\n",
        "\n",
        "Building a custom dataset can be a painful process. It might take dozens or even hundreds of hours to collect images, label them, and export them in the proper format. Fortunately, Roboflow makes this process as straightforward and fast as possible. Let me show you how!\n",
        "\n",
        "### Step 1: Creating project\n",
        "\n",
        "Before you start, you need to create a Roboflow [account](https://app.roboflow.com/login). Once you do that, you can create a new project in the Roboflow [dashboard](https://app.roboflow.com/). Keep in mind to choose the right project type. In our case, Object Detection.\n",
        "\n",
        "<div align=\"center\">\n",
        "  <img\n",
        "    width=\"640\"\n",
        "    src=\"https://media.roboflow.com/preparing-custom-dataset-example/creating-project.gif?ik-sdk-version=javascript-1.4.3&updatedAt=1672929799852\"\n",
        "  >\n",
        "</div>\n",
        "\n",
        "### Step 2: Uploading images\n",
        "\n",
        "Next, add the data to your newly created project. You can do it via API or through our [web interface](https://docs.roboflow.com/adding-data/object-detection).\n",
        "\n",
        "If you drag and drop a directory with a dataset in a supported format, the Roboflow dashboard will automatically read the images and annotations together.\n",
        "\n",
        "<div align=\"center\">\n",
        "  <img\n",
        "    width=\"640\"\n",
        "    src=\"https://media.roboflow.com/preparing-custom-dataset-example/uploading-images.gif?ik-sdk-version=javascript-1.4.3&updatedAt=1672929808290\"\n",
        "  >\n",
        "</div>\n",
        "\n",
        "### Step 3: Labeling\n",
        "\n",
        "If you only have images, you can label them in [Roboflow Annotate](https://docs.roboflow.com/annotate).\n",
        "\n",
        "<div align=\"center\">\n",
        "  <img\n",
        "    width=\"640\"\n",
        "    src=\"https://user-images.githubusercontent.com/26109316/210901980-04861efd-dfc0-4a01-9373-13a36b5e1df4.gif\"\n",
        "  >\n",
        "</div>\n",
        "\n",
        "### Step 4: Generate new dataset version\n",
        "\n",
        "Now that we have our images and annotations added, we can Generate a Dataset Version. When Generating a Version, you may elect to add preprocessing and augmentations. This step is completely optional, however, it can allow you to significantly improve the robustness of your model.\n",
        "\n",
        "<div align=\"center\">\n",
        "  <img\n",
        "    width=\"640\"\n",
        "    src=\"https://media.roboflow.com/preparing-custom-dataset-example/generate-new-version.gif?ik-sdk-version=javascript-1.4.3&updatedAt=1673003597834\"\n",
        "  >\n",
        "</div>\n",
        "\n",
        "### Step 5: Exporting dataset\n",
        "\n",
        "Once the dataset version is generated, we have a hosted dataset we can load directly into our notebook for easy training. Click `Export` and select the `Folder Structure` dataset format.\n",
        "\n",
        "<div align=\"center\">\n",
        "  <img\n",
        "    width=\"640\"\n",
        "    src=\"https://media.roboflow.com/preparing-custom-dataset-example/export.gif?ik-sdk-version=javascript-1.4.3&updatedAt=1672943313709\"\n",
        "  >\n",
        "</div>\n",
        "\n",
        "\n"
      ]
    },
    {
      "cell_type": "code",
      "execution_count": null,
      "metadata": {
        "colab": {
          "base_uri": "https://localhost:8080/"
        },
        "id": "BSd93ZJzZZKt",
        "outputId": "faa1f326-f19d-4eef-ecde-117c924b61bb"
      },
      "outputs": [
        {
          "output_type": "stream",
          "name": "stdout",
          "text": [
            "/content/datasets\n",
            "\u001b[2K     \u001b[90m━━━━━━━━━━━━━━━━━━━━━━━━━━━━━━━━━━━━━━━━\u001b[0m \u001b[32m72.0/72.0 kB\u001b[0m \u001b[31m628.0 kB/s\u001b[0m eta \u001b[36m0:00:00\u001b[0m\n",
            "\u001b[2K     \u001b[90m━━━━━━━━━━━━━━━━━━━━━━━━━━━━━━━━━━━━━━━━\u001b[0m \u001b[32m158.3/158.3 kB\u001b[0m \u001b[31m12.1 MB/s\u001b[0m eta \u001b[36m0:00:00\u001b[0m\n",
            "\u001b[2K     \u001b[90m━━━━━━━━━━━━━━━━━━━━━━━━━━━━━━━━━━━━━━━━\u001b[0m \u001b[32m178.7/178.7 kB\u001b[0m \u001b[31m24.2 MB/s\u001b[0m eta \u001b[36m0:00:00\u001b[0m\n",
            "\u001b[2K     \u001b[90m━━━━━━━━━━━━━━━━━━━━━━━━━━━━━━━━━━━━━━━━\u001b[0m \u001b[32m58.8/58.8 kB\u001b[0m \u001b[31m8.7 MB/s\u001b[0m eta \u001b[36m0:00:00\u001b[0m\n",
            "\u001b[2K     \u001b[90m━━━━━━━━━━━━━━━━━━━━━━━━━━━━━━━━━━━━━━━━\u001b[0m \u001b[32m49.1/49.1 MB\u001b[0m \u001b[31m11.0 MB/s\u001b[0m eta \u001b[36m0:00:00\u001b[0m\n",
            "\u001b[2K     \u001b[90m━━━━━━━━━━━━━━━━━━━━━━━━━━━━━━━━━━━━━━━━\u001b[0m \u001b[32m54.5/54.5 kB\u001b[0m \u001b[31m8.2 MB/s\u001b[0m eta \u001b[36m0:00:00\u001b[0m\n",
            "\u001b[?25hRequirement already satisfied: roboflow in /usr/local/lib/python3.10/dist-packages (1.1.26)\n",
            "Requirement already satisfied: certifi==2023.7.22 in /usr/local/lib/python3.10/dist-packages (from roboflow) (2023.7.22)\n",
            "Requirement already satisfied: chardet==4.0.0 in /usr/local/lib/python3.10/dist-packages (from roboflow) (4.0.0)\n",
            "Requirement already satisfied: cycler==0.10.0 in /usr/local/lib/python3.10/dist-packages (from roboflow) (0.10.0)\n",
            "Requirement already satisfied: idna==2.10 in /usr/local/lib/python3.10/dist-packages (from roboflow) (2.10)\n",
            "Requirement already satisfied: kiwisolver>=1.3.1 in /usr/local/lib/python3.10/dist-packages (from roboflow) (1.4.5)\n",
            "Requirement already satisfied: matplotlib in /usr/local/lib/python3.10/dist-packages (from roboflow) (3.7.1)\n",
            "Requirement already satisfied: numpy>=1.18.5 in /usr/local/lib/python3.10/dist-packages (from roboflow) (1.25.2)\n",
            "Requirement already satisfied: opencv-python-headless==4.8.0.74 in /usr/local/lib/python3.10/dist-packages (from roboflow) (4.8.0.74)\n",
            "Requirement already satisfied: Pillow>=7.1.2 in /usr/local/lib/python3.10/dist-packages (from roboflow) (9.4.0)\n",
            "Requirement already satisfied: python-dateutil in /usr/local/lib/python3.10/dist-packages (from roboflow) (2.8.2)\n",
            "Requirement already satisfied: python-dotenv in /usr/local/lib/python3.10/dist-packages (from roboflow) (1.0.1)\n",
            "Requirement already satisfied: requests in /usr/local/lib/python3.10/dist-packages (from roboflow) (2.31.0)\n",
            "Requirement already satisfied: six in /usr/local/lib/python3.10/dist-packages (from roboflow) (1.16.0)\n",
            "Requirement already satisfied: urllib3>=1.26.6 in /usr/local/lib/python3.10/dist-packages (from roboflow) (2.0.7)\n",
            "Requirement already satisfied: tqdm>=4.41.0 in /usr/local/lib/python3.10/dist-packages (from roboflow) (4.66.2)\n",
            "Requirement already satisfied: PyYAML>=5.3.1 in /usr/local/lib/python3.10/dist-packages (from roboflow) (6.0.1)\n",
            "Requirement already satisfied: requests-toolbelt in /usr/local/lib/python3.10/dist-packages (from roboflow) (1.0.0)\n",
            "Requirement already satisfied: python-magic in /usr/local/lib/python3.10/dist-packages (from roboflow) (0.4.27)\n",
            "Requirement already satisfied: contourpy>=1.0.1 in /usr/local/lib/python3.10/dist-packages (from matplotlib->roboflow) (1.2.0)\n",
            "Requirement already satisfied: fonttools>=4.22.0 in /usr/local/lib/python3.10/dist-packages (from matplotlib->roboflow) (4.50.0)\n",
            "Requirement already satisfied: packaging>=20.0 in /usr/local/lib/python3.10/dist-packages (from matplotlib->roboflow) (24.0)\n",
            "Requirement already satisfied: pyparsing>=2.3.1 in /usr/local/lib/python3.10/dist-packages (from matplotlib->roboflow) (3.1.2)\n",
            "Requirement already satisfied: charset-normalizer<4,>=2 in /usr/local/lib/python3.10/dist-packages (from requests->roboflow) (3.3.2)\n",
            "loading Roboflow workspace...\n",
            "loading Roboflow project...\n"
          ]
        },
        {
          "output_type": "stream",
          "name": "stderr",
          "text": [
            "Downloading Dataset Version Zip in oral-cancer-1 to folder:: 100%|██████████| 34392/34392 [00:00<00:00, 38332.73it/s]"
          ]
        },
        {
          "output_type": "stream",
          "name": "stdout",
          "text": [
            "\n"
          ]
        },
        {
          "output_type": "stream",
          "name": "stderr",
          "text": [
            "\n",
            "Extracting Dataset Version Zip to oral-cancer-1 in folder:: 100%|██████████| 928/928 [00:00<00:00, 5697.12it/s]\n"
          ]
        }
      ],
      "source": [
        "!mkdir {HOME}/datasets\n",
        "%cd {HOME}/datasets\n",
        "\n",
        "!pip install roboflow --quiet\n",
        "\n",
        "# from roboflow import Roboflow\n",
        "# rf = Roboflow(api_key=\"YOUR_API_KEY\")\n",
        "# project = rf.workspace(\"roboflow-universe-projects\").project(\"banana-ripeness-classification\")\n",
        "# dataset = project.version(4).download(\"folder\")\n",
        "\n",
        "# !pip install roboflow\n",
        "\n",
        "# from roboflow import Roboflow\n",
        "# rf = Roboflow(api_key=\"o56UWzw1HN4l7DA9pvWt\")\n",
        "# project = rf.workspace(\"cancerresearch\").project(\"oral_cancer2\")\n",
        "# version = project.version(1)\n",
        "# dataset = version.download(\"multiclass\")\n",
        "\n",
        "\n",
        "!pip install roboflow\n",
        "\n",
        "from roboflow import Roboflow\n",
        "rf = Roboflow(api_key=\"Y0wnYlwuuL4LQXKVZoz5\")\n",
        "project = rf.workspace(\"oralcancersrinivasworkspace\").project(\"oral-cancer-tsvhr\")\n",
        "version = project.version(1)\n",
        "dataset = version.download(\"folder\")\n"
      ]
    },
    {
      "cell_type": "code",
      "source": [
        "# prompt: delete .ipynb_checkpoints in /content/datasets/oral-cancer-1/test\n",
        "!rm -rf /content/datasets/oral-cancer-1/valid/.ipynb_checkpoints"
      ],
      "metadata": {
        "id": "mopMQjThyLh2"
      },
      "execution_count": null,
      "outputs": []
    },
    {
      "cell_type": "code",
      "source": [
        "# prompt: zip the runs folder\n",
        "!zip -r /content/runs.zip /content/runs"
      ],
      "metadata": {
        "colab": {
          "base_uri": "https://localhost:8080/"
        },
        "id": "v-ooVBL_sZTV",
        "outputId": "588ea911-20c5-4dcf-d669-b78e3489e01c"
      },
      "execution_count": null,
      "outputs": [
        {
          "output_type": "stream",
          "name": "stdout",
          "text": [
            "  adding: content/runs/ (stored 0%)\n",
            "  adding: content/runs/classify/ (stored 0%)\n",
            "  adding: content/runs/classify/train5/ (stored 0%)\n",
            "  adding: content/runs/classify/train5/train_batch1.jpg (deflated 3%)\n",
            "  adding: content/runs/classify/train5/val_batch0_pred.jpg (deflated 2%)\n",
            "  adding: content/runs/classify/train5/train_batch3601.jpg (deflated 2%)\n",
            "  adding: content/runs/classify/train5/train_batch3600.jpg (deflated 2%)\n",
            "  adding: content/runs/classify/train5/val_batch1_pred.jpg (deflated 2%)\n",
            "  adding: content/runs/classify/train5/train_batch0.jpg (deflated 2%)\n",
            "  adding: content/runs/classify/train5/weights/ (stored 0%)\n",
            "  adding: content/runs/classify/train5/weights/last.pt (deflated 8%)\n",
            "  adding: content/runs/classify/train5/weights/best.pt (deflated 8%)\n",
            "  adding: content/runs/classify/train5/results.png (deflated 10%)\n",
            "  adding: content/runs/classify/train5/events.out.tfevents.1712205112.d27792c4f1a1.14904.0 (deflated 88%)\n",
            "  adding: content/runs/classify/train5/results.csv (deflated 89%)\n",
            "  adding: content/runs/classify/train5/args.yaml (deflated 53%)\n",
            "  adding: content/runs/classify/train5/train_batch3602.jpg (deflated 3%)\n",
            "  adding: content/runs/classify/train5/train_batch2.jpg (deflated 4%)\n",
            "  adding: content/runs/classify/train5/val_batch2_pred.jpg (deflated 2%)\n",
            "  adding: content/runs/classify/train5/val_batch1_labels.jpg (deflated 2%)\n",
            "  adding: content/runs/classify/train5/confusion_matrix.png (deflated 36%)\n",
            "  adding: content/runs/classify/train5/val_batch2_labels.jpg (deflated 2%)\n",
            "  adding: content/runs/classify/train5/val_batch0_labels.jpg (deflated 2%)\n",
            "  adding: content/runs/classify/train5/confusion_matrix_normalized.png (deflated 33%)\n",
            "  adding: content/runs/classify/train4/ (stored 0%)\n",
            "  adding: content/runs/classify/train4/train_batch1.jpg (deflated 3%)\n",
            "  adding: content/runs/classify/train4/val_batch0_pred.jpg (deflated 2%)\n",
            "  adding: content/runs/classify/train4/train_batch3601.jpg (deflated 2%)\n",
            "  adding: content/runs/classify/train4/events.out.tfevents.1712204354.d27792c4f1a1.11626.0 (deflated 90%)\n",
            "  adding: content/runs/classify/train4/train_batch3600.jpg (deflated 2%)\n",
            "  adding: content/runs/classify/train4/val_batch1_pred.jpg (deflated 2%)\n",
            "  adding: content/runs/classify/train4/train_batch0.jpg (deflated 2%)\n",
            "  adding: content/runs/classify/train4/weights/ (stored 0%)\n",
            "  adding: content/runs/classify/train4/weights/last.pt (deflated 8%)\n",
            "  adding: content/runs/classify/train4/weights/best.pt (deflated 8%)\n",
            "  adding: content/runs/classify/train4/results.png (deflated 9%)\n",
            "  adding: content/runs/classify/train4/results.csv (deflated 89%)\n",
            "  adding: content/runs/classify/train4/args.yaml (deflated 53%)\n",
            "  adding: content/runs/classify/train4/train_batch3602.jpg (deflated 3%)\n",
            "  adding: content/runs/classify/train4/train_batch2.jpg (deflated 4%)\n",
            "  adding: content/runs/classify/train4/val_batch2_pred.jpg (deflated 2%)\n",
            "  adding: content/runs/classify/train4/val_batch1_labels.jpg (deflated 2%)\n",
            "  adding: content/runs/classify/train4/confusion_matrix.png (deflated 36%)\n",
            "  adding: content/runs/classify/train4/val_batch2_labels.jpg (deflated 2%)\n",
            "  adding: content/runs/classify/train4/val_batch0_labels.jpg (deflated 2%)\n",
            "  adding: content/runs/classify/train4/confusion_matrix_normalized.png (deflated 34%)\n",
            "  adding: content/runs/classify/train2/ (stored 0%)\n",
            "  adding: content/runs/classify/train2/train_batch1.jpg (deflated 3%)\n",
            "  adding: content/runs/classify/train2/train_batch0.jpg (deflated 2%)\n",
            "  adding: content/runs/classify/train2/weights/ (stored 0%)\n",
            "  adding: content/runs/classify/train2/events.out.tfevents.1712203139.d27792c4f1a1.6414.0 (deflated 94%)\n",
            "  adding: content/runs/classify/train2/args.yaml (deflated 53%)\n",
            "  adding: content/runs/classify/train2/train_batch2.jpg (deflated 4%)\n",
            "  adding: content/runs/classify/train/ (stored 0%)\n",
            "  adding: content/runs/classify/train/train_batch1.jpg (deflated 3%)\n",
            "  adding: content/runs/classify/train/val_batch0_pred.jpg (deflated 2%)\n",
            "  adding: content/runs/classify/train/train_batch3601.jpg (deflated 2%)\n",
            "  adding: content/runs/classify/train/train_batch3600.jpg (deflated 2%)\n",
            "  adding: content/runs/classify/train/val_batch1_pred.jpg (deflated 2%)\n",
            "  adding: content/runs/classify/train/train_batch0.jpg (deflated 2%)\n",
            "  adding: content/runs/classify/train/weights/ (stored 0%)\n",
            "  adding: content/runs/classify/train/weights/last.pt (deflated 8%)\n",
            "  adding: content/runs/classify/train/weights/best.pt (deflated 8%)\n",
            "  adding: content/runs/classify/train/events.out.tfevents.1712202199.d27792c4f1a1.2372.0 (deflated 91%)\n",
            "  adding: content/runs/classify/train/results.png (deflated 8%)\n",
            "  adding: content/runs/classify/train/results.csv (deflated 89%)\n",
            "  adding: content/runs/classify/train/args.yaml (deflated 53%)\n",
            "  adding: content/runs/classify/train/train_batch3602.jpg (deflated 3%)\n",
            "  adding: content/runs/classify/train/train_batch2.jpg (deflated 4%)\n",
            "  adding: content/runs/classify/train/val_batch2_pred.jpg (deflated 2%)\n",
            "  adding: content/runs/classify/train/val_batch1_labels.jpg (deflated 2%)\n",
            "  adding: content/runs/classify/train/confusion_matrix.png (deflated 36%)\n",
            "  adding: content/runs/classify/train/val_batch2_labels.jpg (deflated 2%)\n",
            "  adding: content/runs/classify/train/val_batch0_labels.jpg (deflated 2%)\n",
            "  adding: content/runs/classify/train/confusion_matrix_normalized.png (deflated 33%)\n",
            "  adding: content/runs/classify/train6/ (stored 0%)\n",
            "  adding: content/runs/classify/train6/train_batch1.jpg (deflated 3%)\n",
            "  adding: content/runs/classify/train6/val_batch0_pred.jpg (deflated 2%)\n",
            "  adding: content/runs/classify/train6/train_batch3601.jpg (deflated 2%)\n",
            "  adding: content/runs/classify/train6/train_batch3600.jpg (deflated 2%)\n",
            "  adding: content/runs/classify/train6/val_batch1_pred.jpg (deflated 2%)\n",
            "  adding: content/runs/classify/train6/train_batch0.jpg (deflated 2%)\n",
            "  adding: content/runs/classify/train6/weights/ (stored 0%)\n",
            "  adding: content/runs/classify/train6/weights/last.pt (deflated 9%)\n",
            "  adding: content/runs/classify/train6/weights/best.pt (deflated 9%)\n",
            "  adding: content/runs/classify/train6/results.png (deflated 9%)\n",
            "  adding: content/runs/classify/train6/results.csv (deflated 89%)\n",
            "  adding: content/runs/classify/train6/args.yaml (deflated 53%)\n",
            "  adding: content/runs/classify/train6/events.out.tfevents.1712205804.d27792c4f1a1.17887.0 (deflated 88%)\n",
            "  adding: content/runs/classify/train6/train_batch3602.jpg (deflated 3%)\n",
            "  adding: content/runs/classify/train6/train_batch2.jpg (deflated 4%)\n",
            "  adding: content/runs/classify/train6/val_batch2_pred.jpg (deflated 2%)\n",
            "  adding: content/runs/classify/train6/val_batch1_labels.jpg (deflated 2%)\n",
            "  adding: content/runs/classify/train6/confusion_matrix.png (deflated 34%)\n",
            "  adding: content/runs/classify/train6/val_batch2_labels.jpg (deflated 2%)\n",
            "  adding: content/runs/classify/train6/val_batch0_labels.jpg (deflated 2%)\n",
            "  adding: content/runs/classify/train6/confusion_matrix_normalized.png (deflated 33%)\n",
            "  adding: content/runs/classify/train3/ (stored 0%)\n",
            "  adding: content/runs/classify/train3/train_batch1.jpg (deflated 3%)\n",
            "  adding: content/runs/classify/train3/val_batch0_pred.jpg (deflated 2%)\n",
            "  adding: content/runs/classify/train3/train_batch3601.jpg (deflated 2%)\n",
            "  adding: content/runs/classify/train3/train_batch3600.jpg (deflated 2%)\n",
            "  adding: content/runs/classify/train3/val_batch1_pred.jpg (deflated 2%)\n",
            "  adding: content/runs/classify/train3/train_batch0.jpg (deflated 2%)\n",
            "  adding: content/runs/classify/train3/weights/ (stored 0%)\n",
            "  adding: content/runs/classify/train3/weights/last.pt (deflated 8%)\n",
            "  adding: content/runs/classify/train3/weights/best.pt (deflated 8%)\n",
            "  adding: content/runs/classify/train3/results.png (deflated 9%)\n",
            "  adding: content/runs/classify/train3/events.out.tfevents.1712203227.d27792c4f1a1.6829.0 (deflated 91%)\n",
            "  adding: content/runs/classify/train3/results.csv (deflated 89%)\n",
            "  adding: content/runs/classify/train3/args.yaml (deflated 53%)\n",
            "  adding: content/runs/classify/train3/train_batch3602.jpg (deflated 3%)\n",
            "  adding: content/runs/classify/train3/train_batch2.jpg (deflated 4%)\n",
            "  adding: content/runs/classify/train3/val_batch2_pred.jpg (deflated 2%)\n",
            "  adding: content/runs/classify/train3/val_batch1_labels.jpg (deflated 2%)\n",
            "  adding: content/runs/classify/train3/confusion_matrix.png (deflated 36%)\n",
            "  adding: content/runs/classify/train3/val_batch2_labels.jpg (deflated 2%)\n",
            "  adding: content/runs/classify/train3/val_batch0_labels.jpg (deflated 2%)\n",
            "  adding: content/runs/classify/train3/confusion_matrix_normalized.png (deflated 33%)\n"
          ]
        }
      ]
    },
    {
      "cell_type": "code",
      "source": [],
      "metadata": {
        "colab": {
          "base_uri": "https://localhost:8080/",
          "height": 34
        },
        "id": "1zmRTJ55dvH9",
        "outputId": "cfd66741-4106-4a0d-dbe2-cf8903835ec0"
      },
      "execution_count": null,
      "outputs": [
        {
          "output_type": "display_data",
          "data": {
            "text/plain": [
              "<IPython.core.display.Javascript object>"
            ],
            "application/javascript": [
              "\n",
              "    async function download(id, filename, size) {\n",
              "      if (!google.colab.kernel.accessAllowed) {\n",
              "        return;\n",
              "      }\n",
              "      const div = document.createElement('div');\n",
              "      const label = document.createElement('label');\n",
              "      label.textContent = `Downloading \"${filename}\": `;\n",
              "      div.appendChild(label);\n",
              "      const progress = document.createElement('progress');\n",
              "      progress.max = size;\n",
              "      div.appendChild(progress);\n",
              "      document.body.appendChild(div);\n",
              "\n",
              "      const buffers = [];\n",
              "      let downloaded = 0;\n",
              "\n",
              "      const channel = await google.colab.kernel.comms.open(id);\n",
              "      // Send a message to notify the kernel that we're ready.\n",
              "      channel.send({})\n",
              "\n",
              "      for await (const message of channel.messages) {\n",
              "        // Send a message to notify the kernel that we're ready.\n",
              "        channel.send({})\n",
              "        if (message.buffers) {\n",
              "          for (const buffer of message.buffers) {\n",
              "            buffers.push(buffer);\n",
              "            downloaded += buffer.byteLength;\n",
              "            progress.value = downloaded;\n",
              "          }\n",
              "        }\n",
              "      }\n",
              "      const blob = new Blob(buffers, {type: 'application/binary'});\n",
              "      const a = document.createElement('a');\n",
              "      a.href = window.URL.createObjectURL(blob);\n",
              "      a.download = filename;\n",
              "      div.appendChild(a);\n",
              "      a.click();\n",
              "      div.remove();\n",
              "    }\n",
              "  "
            ]
          },
          "metadata": {}
        },
        {
          "output_type": "display_data",
          "data": {
            "text/plain": [
              "<IPython.core.display.Javascript object>"
            ],
            "application/javascript": [
              "download(\"download_e2413b51-86a2-4c95-992f-86883cd21e22\", \"runs.zip\", 429198146)"
            ]
          },
          "metadata": {}
        }
      ]
    },
    {
      "cell_type": "code",
      "source": [
        "# prompt: delete .ipynb_checkpoints in test\n",
        "\n",
        "!rm -rf /content/datasets/oral-cancer-1/valid/.ipynb_checkpoints\n"
      ],
      "metadata": {
        "id": "mCz2_L1O3gSe"
      },
      "execution_count": null,
      "outputs": []
    },
    {
      "cell_type": "markdown",
      "metadata": {
        "id": "YUjFBKKqXa-u"
      },
      "source": [
        "## Custom Training"
      ]
    },
    {
      "cell_type": "code",
      "execution_count": null,
      "metadata": {
        "colab": {
          "base_uri": "https://localhost:8080/"
        },
        "id": "D2YkphuiaE7_",
        "outputId": "f64b8581-a550-47c0-d8a6-f34fb1569276"
      },
      "outputs": [
        {
          "output_type": "stream",
          "name": "stdout",
          "text": [
            "/content\n",
            "Downloading https://github.com/ultralytics/assets/releases/download/v8.1.0/yolov8n-cls.pt to 'yolov8n-cls.pt'...\n",
            "100% 5.30M/5.30M [00:00<00:00, 124MB/s]\n",
            "Ultralytics YOLOv8.1.42 🚀 Python-3.10.12 torch-2.2.1+cu121 CUDA:0 (Tesla T4, 15102MiB)\n",
            "\u001b[34m\u001b[1mengine/trainer: \u001b[0mtask=classify, mode=train, model=yolov8n-cls.pt, data=/content/datasets/oral-cancer-1, epochs=100, time=None, patience=100, batch=16, imgsz=128, save=True, save_period=-1, cache=False, device=None, workers=8, project=None, name=train6, exist_ok=False, pretrained=True, optimizer=auto, verbose=True, seed=0, deterministic=True, single_cls=False, rect=False, cos_lr=False, close_mosaic=10, resume=False, amp=True, fraction=1.0, profile=False, freeze=None, multi_scale=False, overlap_mask=True, mask_ratio=4, dropout=0.0, val=True, split=val, save_json=False, save_hybrid=False, conf=None, iou=0.7, max_det=300, half=False, dnn=False, plots=True, source=None, vid_stride=1, stream_buffer=False, visualize=False, augment=False, agnostic_nms=False, classes=None, retina_masks=False, embed=None, show=False, save_frames=False, save_txt=False, save_conf=False, save_crop=False, show_labels=True, show_conf=True, show_boxes=True, line_width=None, format=torchscript, keras=False, optimize=False, int8=False, dynamic=False, simplify=False, opset=None, workspace=4, nms=False, lr0=0.01, lrf=0.01, momentum=0.937, weight_decay=0.0005, warmup_epochs=3.0, warmup_momentum=0.8, warmup_bias_lr=0.1, box=7.5, cls=0.5, dfl=1.5, pose=12.0, kobj=1.0, label_smoothing=0.0, nbs=64, hsv_h=0.015, hsv_s=0.7, hsv_v=0.4, degrees=0.0, translate=0.1, scale=0.5, shear=0.0, perspective=0.0, flipud=0.0, fliplr=0.5, bgr=0.0, mosaic=1.0, mixup=0.0, copy_paste=0.0, auto_augment=randaugment, erasing=0.4, crop_fraction=1.0, cfg=None, tracker=botsort.yaml, save_dir=runs/classify/train6\n",
            "\u001b[34m\u001b[1mtrain:\u001b[0m /content/datasets/oral-cancer-1/train... found 640 images in 2 classes ✅ \n",
            "\u001b[34m\u001b[1mval:\u001b[0m None...\n",
            "\u001b[34m\u001b[1mtest:\u001b[0m /content/datasets/oral-cancer-1/test... found 91 images in 2 classes ✅ \n",
            "2024-04-04 04:43:22.793968: E external/local_xla/xla/stream_executor/cuda/cuda_dnn.cc:9261] Unable to register cuDNN factory: Attempting to register factory for plugin cuDNN when one has already been registered\n",
            "2024-04-04 04:43:22.794024: E external/local_xla/xla/stream_executor/cuda/cuda_fft.cc:607] Unable to register cuFFT factory: Attempting to register factory for plugin cuFFT when one has already been registered\n",
            "2024-04-04 04:43:22.795346: E external/local_xla/xla/stream_executor/cuda/cuda_blas.cc:1515] Unable to register cuBLAS factory: Attempting to register factory for plugin cuBLAS when one has already been registered\n",
            "Overriding model.yaml nc=1000 with nc=2\n",
            "\n",
            "                   from  n    params  module                                       arguments                     \n",
            "  0                  -1  1       464  ultralytics.nn.modules.conv.Conv             [3, 16, 3, 2]                 \n",
            "  1                  -1  1      4672  ultralytics.nn.modules.conv.Conv             [16, 32, 3, 2]                \n",
            "  2                  -1  1      7360  ultralytics.nn.modules.block.C2f             [32, 32, 1, True]             \n",
            "  3                  -1  1     18560  ultralytics.nn.modules.conv.Conv             [32, 64, 3, 2]                \n",
            "  4                  -1  2     49664  ultralytics.nn.modules.block.C2f             [64, 64, 2, True]             \n",
            "  5                  -1  1     73984  ultralytics.nn.modules.conv.Conv             [64, 128, 3, 2]               \n",
            "  6                  -1  2    197632  ultralytics.nn.modules.block.C2f             [128, 128, 2, True]           \n",
            "  7                  -1  1    295424  ultralytics.nn.modules.conv.Conv             [128, 256, 3, 2]              \n",
            "  8                  -1  1    460288  ultralytics.nn.modules.block.C2f             [256, 256, 1, True]           \n",
            "  9                  -1  1    332802  ultralytics.nn.modules.head.Classify         [256, 2]                      \n",
            "YOLOv8n-cls summary: 99 layers, 1440850 parameters, 1440850 gradients, 3.4 GFLOPs\n",
            "Transferred 156/158 items from pretrained weights\n",
            "\u001b[34m\u001b[1mTensorBoard: \u001b[0mStart with 'tensorboard --logdir runs/classify/train6', view at http://localhost:6006/\n",
            "\u001b[34m\u001b[1mAMP: \u001b[0mrunning Automatic Mixed Precision (AMP) checks with YOLOv8n...\n",
            "\u001b[34m\u001b[1mAMP: \u001b[0mchecks passed ✅\n",
            "\u001b[34m\u001b[1mtrain: \u001b[0mScanning /content/datasets/oral-cancer-1/train... 640 images, 0 corrupt: 100% 640/640 [00:00<?, ?it/s]\n",
            "\u001b[34m\u001b[1mval: \u001b[0mScanning /content/datasets/oral-cancer-1/test... 91 images, 0 corrupt: 100% 91/91 [00:00<?, ?it/s]\n",
            "\u001b[34m\u001b[1moptimizer:\u001b[0m 'optimizer=auto' found, ignoring 'lr0=0.01' and 'momentum=0.937' and determining best 'optimizer', 'lr0' and 'momentum' automatically... \n",
            "\u001b[34m\u001b[1moptimizer:\u001b[0m AdamW(lr=0.000714, momentum=0.9) with parameter groups 26 weight(decay=0.0), 27 weight(decay=0.0005), 27 bias(decay=0.0)\n",
            "\u001b[34m\u001b[1mTensorBoard: \u001b[0mmodel graph visualization added ✅\n",
            "Image sizes 128 train, 128 val\n",
            "Using 2 dataloader workers\n",
            "Logging results to \u001b[1mruns/classify/train6\u001b[0m\n",
            "Starting training for 100 epochs...\n",
            "\n",
            "      Epoch    GPU_mem       loss  Instances       Size\n",
            "      1/100     0.409G     0.6165         16        128: 100% 40/40 [00:06<00:00,  5.98it/s]\n",
            "               classes   top1_acc   top5_acc: 100% 3/3 [00:00<00:00,  5.63it/s]\n",
            "                   all      0.868          1\n",
            "\n",
            "      Epoch    GPU_mem       loss  Instances       Size\n",
            "      2/100     0.409G     0.3888         16        128: 100% 40/40 [00:04<00:00,  8.09it/s]\n",
            "               classes   top1_acc   top5_acc: 100% 3/3 [00:00<00:00, 50.68it/s]\n",
            "                   all      0.923          1\n",
            "\n",
            "      Epoch    GPU_mem       loss  Instances       Size\n",
            "      3/100     0.409G     0.2628         16        128: 100% 40/40 [00:06<00:00,  6.06it/s]\n",
            "               classes   top1_acc   top5_acc: 100% 3/3 [00:00<00:00, 41.27it/s]\n",
            "                   all      0.934          1\n",
            "\n",
            "      Epoch    GPU_mem       loss  Instances       Size\n",
            "      4/100     0.409G     0.2488         16        128: 100% 40/40 [00:05<00:00,  7.65it/s]\n",
            "               classes   top1_acc   top5_acc: 100% 3/3 [00:00<00:00, 34.95it/s]\n",
            "                   all      0.934          1\n",
            "\n",
            "      Epoch    GPU_mem       loss  Instances       Size\n",
            "      5/100     0.409G     0.1867         16        128: 100% 40/40 [00:06<00:00,  6.26it/s]\n",
            "               classes   top1_acc   top5_acc: 100% 3/3 [00:00<00:00, 31.68it/s]\n",
            "                   all      0.956          1\n",
            "\n",
            "      Epoch    GPU_mem       loss  Instances       Size\n",
            "      6/100     0.409G     0.1402         16        128: 100% 40/40 [00:05<00:00,  7.74it/s]\n",
            "               classes   top1_acc   top5_acc: 100% 3/3 [00:00<00:00, 51.67it/s]\n",
            "                   all      0.934          1\n",
            "\n",
            "      Epoch    GPU_mem       loss  Instances       Size\n",
            "      7/100     0.409G     0.1519         16        128: 100% 40/40 [00:06<00:00,  6.13it/s]\n",
            "               classes   top1_acc   top5_acc: 100% 3/3 [00:00<00:00, 31.45it/s]\n",
            "                   all      0.945          1\n",
            "\n",
            "      Epoch    GPU_mem       loss  Instances       Size\n",
            "      8/100     0.409G      0.146         16        128: 100% 40/40 [00:05<00:00,  7.63it/s]\n",
            "               classes   top1_acc   top5_acc: 100% 3/3 [00:00<00:00, 40.68it/s]\n",
            "                   all      0.945          1\n",
            "\n",
            "      Epoch    GPU_mem       loss  Instances       Size\n",
            "      9/100     0.409G     0.1388         16        128: 100% 40/40 [00:06<00:00,  6.46it/s]\n",
            "               classes   top1_acc   top5_acc: 100% 3/3 [00:00<00:00, 33.23it/s]\n",
            "                   all      0.956          1\n",
            "\n",
            "      Epoch    GPU_mem       loss  Instances       Size\n",
            "     10/100     0.409G     0.1419         16        128: 100% 40/40 [00:05<00:00,  7.86it/s]\n",
            "               classes   top1_acc   top5_acc: 100% 3/3 [00:00<00:00, 54.36it/s]\n",
            "                   all      0.945          1\n",
            "\n",
            "      Epoch    GPU_mem       loss  Instances       Size\n",
            "     11/100     0.409G     0.1388         16        128: 100% 40/40 [00:06<00:00,  5.97it/s]\n",
            "               classes   top1_acc   top5_acc: 100% 3/3 [00:00<00:00, 30.19it/s]\n",
            "                   all      0.934          1\n",
            "\n",
            "      Epoch    GPU_mem       loss  Instances       Size\n",
            "     12/100     0.401G     0.1103         16        128: 100% 40/40 [00:05<00:00,  7.86it/s]\n",
            "               classes   top1_acc   top5_acc: 100% 3/3 [00:00<00:00, 33.60it/s]\n",
            "                   all      0.934          1\n",
            "\n",
            "      Epoch    GPU_mem       loss  Instances       Size\n",
            "     13/100     0.401G     0.1174         16        128: 100% 40/40 [00:06<00:00,  6.40it/s]\n",
            "               classes   top1_acc   top5_acc: 100% 3/3 [00:00<00:00, 36.17it/s]\n",
            "                   all      0.934          1\n",
            "\n",
            "      Epoch    GPU_mem       loss  Instances       Size\n",
            "     14/100     0.401G     0.1138         16        128: 100% 40/40 [00:05<00:00,  7.82it/s]\n",
            "               classes   top1_acc   top5_acc: 100% 3/3 [00:00<00:00, 52.63it/s]\n",
            "                   all      0.967          1\n",
            "\n",
            "      Epoch    GPU_mem       loss  Instances       Size\n",
            "     15/100     0.401G    0.09607         16        128: 100% 40/40 [00:06<00:00,  6.29it/s]\n",
            "               classes   top1_acc   top5_acc: 100% 3/3 [00:00<00:00, 54.94it/s]\n",
            "                   all      0.967          1\n",
            "\n",
            "      Epoch    GPU_mem       loss  Instances       Size\n",
            "     16/100     0.401G     0.1535         16        128: 100% 40/40 [00:05<00:00,  7.63it/s]\n",
            "               classes   top1_acc   top5_acc: 100% 3/3 [00:00<00:00, 26.59it/s]\n",
            "                   all      0.956          1\n",
            "\n",
            "      Epoch    GPU_mem       loss  Instances       Size\n",
            "     17/100     0.401G     0.1054         16        128: 100% 40/40 [00:06<00:00,  6.17it/s]\n",
            "               classes   top1_acc   top5_acc: 100% 3/3 [00:00<00:00, 53.02it/s]\n",
            "                   all      0.923          1\n",
            "\n",
            "      Epoch    GPU_mem       loss  Instances       Size\n",
            "     18/100     0.401G    0.09193         16        128: 100% 40/40 [00:05<00:00,  7.79it/s]\n",
            "               classes   top1_acc   top5_acc: 100% 3/3 [00:00<00:00, 41.67it/s]\n",
            "                   all      0.934          1\n",
            "\n",
            "      Epoch    GPU_mem       loss  Instances       Size\n",
            "     19/100     0.401G     0.1013         16        128: 100% 40/40 [00:06<00:00,  6.38it/s]\n",
            "               classes   top1_acc   top5_acc: 100% 3/3 [00:00<00:00, 18.55it/s]\n",
            "                   all      0.934          1\n",
            "\n",
            "      Epoch    GPU_mem       loss  Instances       Size\n",
            "     20/100     0.401G    0.07229         16        128: 100% 40/40 [00:05<00:00,  7.63it/s]\n",
            "               classes   top1_acc   top5_acc: 100% 3/3 [00:00<00:00, 32.09it/s]\n",
            "                   all      0.934          1\n",
            "\n",
            "      Epoch    GPU_mem       loss  Instances       Size\n",
            "     21/100     0.401G    0.07774         16        128: 100% 40/40 [00:06<00:00,  6.63it/s]\n",
            "               classes   top1_acc   top5_acc: 100% 3/3 [00:00<00:00, 24.57it/s]\n",
            "                   all      0.945          1\n",
            "\n",
            "      Epoch    GPU_mem       loss  Instances       Size\n",
            "     22/100     0.401G    0.08529         16        128: 100% 40/40 [00:05<00:00,  7.55it/s]\n",
            "               classes   top1_acc   top5_acc: 100% 3/3 [00:00<00:00, 42.66it/s]\n",
            "                   all      0.934          1\n",
            "\n",
            "      Epoch    GPU_mem       loss  Instances       Size\n",
            "     23/100     0.401G    0.06217         16        128: 100% 40/40 [00:06<00:00,  6.62it/s]\n",
            "               classes   top1_acc   top5_acc: 100% 3/3 [00:00<00:00, 25.63it/s]\n",
            "                   all      0.956          1\n",
            "\n",
            "      Epoch    GPU_mem       loss  Instances       Size\n",
            "     24/100     0.401G    0.09393         16        128: 100% 40/40 [00:05<00:00,  7.53it/s]\n",
            "               classes   top1_acc   top5_acc: 100% 3/3 [00:00<00:00, 61.14it/s]\n",
            "                   all      0.945          1\n",
            "\n",
            "      Epoch    GPU_mem       loss  Instances       Size\n",
            "     25/100     0.401G    0.06769         16        128: 100% 40/40 [00:06<00:00,  6.60it/s]\n",
            "               classes   top1_acc   top5_acc: 100% 3/3 [00:00<00:00, 34.63it/s]\n",
            "                   all      0.934          1\n",
            "\n",
            "      Epoch    GPU_mem       loss  Instances       Size\n",
            "     26/100     0.401G    0.07589         16        128: 100% 40/40 [00:05<00:00,  7.58it/s]\n",
            "               classes   top1_acc   top5_acc: 100% 3/3 [00:00<00:00, 34.46it/s]\n",
            "                   all      0.934          1\n",
            "\n",
            "      Epoch    GPU_mem       loss  Instances       Size\n",
            "     27/100     0.401G    0.06194         16        128: 100% 40/40 [00:05<00:00,  6.71it/s]\n",
            "               classes   top1_acc   top5_acc: 100% 3/3 [00:00<00:00, 25.18it/s]\n",
            "                   all      0.956          1\n",
            "\n",
            "      Epoch    GPU_mem       loss  Instances       Size\n",
            "     28/100     0.401G    0.07349         16        128: 100% 40/40 [00:05<00:00,  7.63it/s]\n",
            "               classes   top1_acc   top5_acc: 100% 3/3 [00:00<00:00, 35.88it/s]\n",
            "                   all      0.934          1\n",
            "\n",
            "      Epoch    GPU_mem       loss  Instances       Size\n",
            "     29/100     0.401G    0.06705         16        128: 100% 40/40 [00:05<00:00,  7.05it/s]\n",
            "               classes   top1_acc   top5_acc: 100% 3/3 [00:00<00:00, 23.41it/s]\n",
            "                   all      0.956          1\n",
            "\n",
            "      Epoch    GPU_mem       loss  Instances       Size\n",
            "     30/100     0.401G    0.08271         16        128: 100% 40/40 [00:05<00:00,  7.18it/s]\n",
            "               classes   top1_acc   top5_acc: 100% 3/3 [00:00<00:00, 31.61it/s]\n",
            "                   all      0.956          1\n",
            "\n",
            "      Epoch    GPU_mem       loss  Instances       Size\n",
            "     31/100     0.401G    0.06581         16        128: 100% 40/40 [00:05<00:00,  6.97it/s]\n",
            "               classes   top1_acc   top5_acc: 100% 3/3 [00:00<00:00, 21.72it/s]\n",
            "                   all      0.945          1\n",
            "\n",
            "      Epoch    GPU_mem       loss  Instances       Size\n",
            "     32/100     0.401G    0.04801         16        128: 100% 40/40 [00:05<00:00,  7.09it/s]\n",
            "               classes   top1_acc   top5_acc: 100% 3/3 [00:00<00:00, 42.44it/s]\n",
            "                   all      0.956          1\n",
            "\n",
            "      Epoch    GPU_mem       loss  Instances       Size\n",
            "     33/100     0.401G    0.08255         16        128: 100% 40/40 [00:05<00:00,  7.18it/s]\n",
            "               classes   top1_acc   top5_acc: 100% 3/3 [00:00<00:00, 23.16it/s]\n",
            "                   all      0.956          1\n",
            "\n",
            "      Epoch    GPU_mem       loss  Instances       Size\n",
            "     34/100     0.401G    0.05328         16        128: 100% 40/40 [00:05<00:00,  7.15it/s]\n",
            "               classes   top1_acc   top5_acc: 100% 3/3 [00:00<00:00, 27.98it/s]\n",
            "                   all      0.956          1\n",
            "\n",
            "      Epoch    GPU_mem       loss  Instances       Size\n",
            "     35/100     0.401G    0.08331         16        128: 100% 40/40 [00:05<00:00,  6.98it/s]\n",
            "               classes   top1_acc   top5_acc: 100% 3/3 [00:00<00:00, 22.00it/s]\n",
            "                   all      0.945          1\n",
            "\n",
            "      Epoch    GPU_mem       loss  Instances       Size\n",
            "     36/100     0.401G    0.06493         16        128: 100% 40/40 [00:05<00:00,  7.18it/s]\n",
            "               classes   top1_acc   top5_acc: 100% 3/3 [00:00<00:00, 45.79it/s]\n",
            "                   all      0.956          1\n",
            "\n",
            "      Epoch    GPU_mem       loss  Instances       Size\n",
            "     37/100     0.401G     0.0654         16        128: 100% 40/40 [00:05<00:00,  6.99it/s]\n",
            "               classes   top1_acc   top5_acc: 100% 3/3 [00:00<00:00, 24.22it/s]\n",
            "                   all      0.934          1\n",
            "\n",
            "      Epoch    GPU_mem       loss  Instances       Size\n",
            "     38/100     0.401G      0.057         16        128: 100% 40/40 [00:05<00:00,  7.03it/s]\n",
            "               classes   top1_acc   top5_acc: 100% 3/3 [00:00<00:00, 50.45it/s]\n",
            "                   all      0.945          1\n",
            "\n",
            "      Epoch    GPU_mem       loss  Instances       Size\n",
            "     39/100     0.401G    0.03977         16        128: 100% 40/40 [00:05<00:00,  7.39it/s]\n",
            "               classes   top1_acc   top5_acc: 100% 3/3 [00:00<00:00, 16.78it/s]\n",
            "                   all      0.945          1\n",
            "\n",
            "      Epoch    GPU_mem       loss  Instances       Size\n",
            "     40/100     0.401G    0.06411         16        128: 100% 40/40 [00:05<00:00,  7.14it/s]\n",
            "               classes   top1_acc   top5_acc: 100% 3/3 [00:00<00:00, 29.87it/s]\n",
            "                   all      0.956          1\n",
            "\n",
            "      Epoch    GPU_mem       loss  Instances       Size\n",
            "     41/100     0.401G    0.04582         16        128: 100% 40/40 [00:05<00:00,  7.01it/s]\n",
            "               classes   top1_acc   top5_acc: 100% 3/3 [00:00<00:00, 19.55it/s]\n",
            "                   all      0.945          1\n",
            "\n",
            "      Epoch    GPU_mem       loss  Instances       Size\n",
            "     42/100     0.401G    0.03804         16        128: 100% 40/40 [00:05<00:00,  6.89it/s]\n",
            "               classes   top1_acc   top5_acc: 100% 3/3 [00:00<00:00, 33.30it/s]\n",
            "                   all      0.956          1\n",
            "\n",
            "      Epoch    GPU_mem       loss  Instances       Size\n",
            "     43/100     0.401G    0.03079         16        128: 100% 40/40 [00:05<00:00,  7.41it/s]\n",
            "               classes   top1_acc   top5_acc: 100% 3/3 [00:00<00:00, 23.11it/s]\n",
            "                   all      0.923          1\n",
            "\n",
            "      Epoch    GPU_mem       loss  Instances       Size\n",
            "     44/100     0.401G    0.03139         16        128: 100% 40/40 [00:05<00:00,  6.70it/s]\n",
            "               classes   top1_acc   top5_acc: 100% 3/3 [00:00<00:00, 26.74it/s]\n",
            "                   all      0.934          1\n",
            "\n",
            "      Epoch    GPU_mem       loss  Instances       Size\n",
            "     45/100     0.401G    0.04131         16        128: 100% 40/40 [00:05<00:00,  7.53it/s]\n",
            "               classes   top1_acc   top5_acc: 100% 3/3 [00:00<00:00, 21.55it/s]\n",
            "                   all      0.945          1\n",
            "\n",
            "      Epoch    GPU_mem       loss  Instances       Size\n",
            "     46/100     0.401G    0.02686         16        128: 100% 40/40 [00:06<00:00,  6.58it/s]\n",
            "               classes   top1_acc   top5_acc: 100% 3/3 [00:00<00:00, 30.71it/s]\n",
            "                   all      0.934          1\n",
            "\n",
            "      Epoch    GPU_mem       loss  Instances       Size\n",
            "     47/100     0.401G    0.04953         16        128: 100% 40/40 [00:05<00:00,  7.41it/s]\n",
            "               classes   top1_acc   top5_acc: 100% 3/3 [00:00<00:00, 22.88it/s]\n",
            "                   all      0.956          1\n",
            "\n",
            "      Epoch    GPU_mem       loss  Instances       Size\n",
            "     48/100     0.401G    0.03225         16        128: 100% 40/40 [00:05<00:00,  6.72it/s]\n",
            "               classes   top1_acc   top5_acc: 100% 3/3 [00:00<00:00, 39.35it/s]\n",
            "                   all      0.956          1\n",
            "\n",
            "      Epoch    GPU_mem       loss  Instances       Size\n",
            "     49/100     0.401G    0.03849         16        128: 100% 40/40 [00:05<00:00,  7.68it/s]\n",
            "               classes   top1_acc   top5_acc: 100% 3/3 [00:00<00:00, 28.66it/s]\n",
            "                   all      0.956          1\n",
            "\n",
            "      Epoch    GPU_mem       loss  Instances       Size\n",
            "     50/100     0.401G    0.04965         16        128: 100% 40/40 [00:06<00:00,  6.50it/s]\n",
            "               classes   top1_acc   top5_acc: 100% 3/3 [00:00<00:00, 33.25it/s]\n",
            "                   all      0.945          1\n",
            "\n",
            "      Epoch    GPU_mem       loss  Instances       Size\n",
            "     51/100     0.401G    0.04463         16        128: 100% 40/40 [00:05<00:00,  7.74it/s]\n",
            "               classes   top1_acc   top5_acc: 100% 3/3 [00:00<00:00, 63.98it/s]\n",
            "                   all      0.923          1\n",
            "\n",
            "      Epoch    GPU_mem       loss  Instances       Size\n",
            "     52/100     0.401G     0.0213         16        128: 100% 40/40 [00:06<00:00,  6.49it/s]\n",
            "               classes   top1_acc   top5_acc: 100% 3/3 [00:00<00:00, 26.21it/s]\n",
            "                   all      0.934          1\n",
            "\n",
            "      Epoch    GPU_mem       loss  Instances       Size\n",
            "     53/100     0.401G    0.03237         16        128: 100% 40/40 [00:05<00:00,  7.88it/s]\n",
            "               classes   top1_acc   top5_acc: 100% 3/3 [00:00<00:00, 52.99it/s]\n",
            "                   all      0.934          1\n",
            "\n",
            "      Epoch    GPU_mem       loss  Instances       Size\n",
            "     54/100     0.401G    0.04109         16        128: 100% 40/40 [00:06<00:00,  6.38it/s]\n",
            "               classes   top1_acc   top5_acc: 100% 3/3 [00:00<00:00, 37.74it/s]\n",
            "                   all      0.934          1\n",
            "\n",
            "      Epoch    GPU_mem       loss  Instances       Size\n",
            "     55/100     0.401G    0.03524         16        128: 100% 40/40 [00:05<00:00,  7.60it/s]\n",
            "               classes   top1_acc   top5_acc: 100% 3/3 [00:00<00:00, 76.20it/s]\n",
            "                   all      0.934          1\n",
            "\n",
            "      Epoch    GPU_mem       loss  Instances       Size\n",
            "     56/100     0.401G    0.03569         16        128: 100% 40/40 [00:06<00:00,  6.41it/s]\n",
            "               classes   top1_acc   top5_acc: 100% 3/3 [00:00<00:00, 42.31it/s]\n",
            "                   all      0.923          1\n",
            "\n",
            "      Epoch    GPU_mem       loss  Instances       Size\n",
            "     57/100     0.401G    0.04504         16        128: 100% 40/40 [00:05<00:00,  7.79it/s]\n",
            "               classes   top1_acc   top5_acc: 100% 3/3 [00:00<00:00, 55.63it/s]\n",
            "                   all      0.934          1\n",
            "\n",
            "      Epoch    GPU_mem       loss  Instances       Size\n",
            "     58/100     0.401G    0.05197         16        128: 100% 40/40 [00:06<00:00,  6.31it/s]\n",
            "               classes   top1_acc   top5_acc: 100% 3/3 [00:00<00:00, 33.63it/s]\n",
            "                   all      0.934          1\n",
            "\n",
            "      Epoch    GPU_mem       loss  Instances       Size\n",
            "     59/100     0.401G    0.08492         16        128: 100% 40/40 [00:05<00:00,  7.50it/s]\n",
            "               classes   top1_acc   top5_acc: 100% 3/3 [00:00<00:00, 32.81it/s]\n",
            "                   all      0.934          1\n",
            "\n",
            "      Epoch    GPU_mem       loss  Instances       Size\n",
            "     60/100     0.401G    0.03433         16        128: 100% 40/40 [00:06<00:00,  6.18it/s]\n",
            "               classes   top1_acc   top5_acc: 100% 3/3 [00:00<00:00, 51.85it/s]\n",
            "                   all      0.934          1\n",
            "\n",
            "      Epoch    GPU_mem       loss  Instances       Size\n",
            "     61/100     0.401G    0.03405         16        128: 100% 40/40 [00:05<00:00,  7.60it/s]\n",
            "               classes   top1_acc   top5_acc: 100% 3/3 [00:00<00:00, 33.14it/s]\n",
            "                   all      0.945          1\n",
            "\n",
            "      Epoch    GPU_mem       loss  Instances       Size\n",
            "     62/100     0.401G    0.03823         16        128: 100% 40/40 [00:06<00:00,  6.28it/s]\n",
            "               classes   top1_acc   top5_acc: 100% 3/3 [00:00<00:00, 33.49it/s]\n",
            "                   all      0.945          1\n",
            "\n",
            "      Epoch    GPU_mem       loss  Instances       Size\n",
            "     63/100     0.401G    0.02864         16        128: 100% 40/40 [00:05<00:00,  7.78it/s]\n",
            "               classes   top1_acc   top5_acc: 100% 3/3 [00:00<00:00, 30.69it/s]\n",
            "                   all      0.956          1\n",
            "\n",
            "      Epoch    GPU_mem       loss  Instances       Size\n",
            "     64/100     0.401G      0.036         16        128: 100% 40/40 [00:06<00:00,  6.46it/s]\n",
            "               classes   top1_acc   top5_acc: 100% 3/3 [00:00<00:00, 41.64it/s]\n",
            "                   all      0.956          1\n",
            "\n",
            "      Epoch    GPU_mem       loss  Instances       Size\n",
            "     65/100     0.401G     0.0502         16        128: 100% 40/40 [00:05<00:00,  7.61it/s]\n",
            "               classes   top1_acc   top5_acc: 100% 3/3 [00:00<00:00, 59.81it/s]\n",
            "                   all      0.934          1\n",
            "\n",
            "      Epoch    GPU_mem       loss  Instances       Size\n",
            "     66/100     0.401G    0.02768         16        128: 100% 40/40 [00:06<00:00,  6.30it/s]\n",
            "               classes   top1_acc   top5_acc: 100% 3/3 [00:00<00:00, 33.79it/s]\n",
            "                   all      0.934          1\n",
            "\n",
            "      Epoch    GPU_mem       loss  Instances       Size\n",
            "     67/100     0.401G    0.02529         16        128: 100% 40/40 [00:05<00:00,  7.85it/s]\n",
            "               classes   top1_acc   top5_acc: 100% 3/3 [00:00<00:00, 46.08it/s]\n",
            "                   all      0.934          1\n",
            "\n",
            "      Epoch    GPU_mem       loss  Instances       Size\n",
            "     68/100     0.401G    0.02711         16        128: 100% 40/40 [00:06<00:00,  6.29it/s]\n",
            "               classes   top1_acc   top5_acc: 100% 3/3 [00:00<00:00, 40.59it/s]\n",
            "                   all      0.956          1\n",
            "\n",
            "      Epoch    GPU_mem       loss  Instances       Size\n",
            "     69/100     0.401G    0.04031         16        128: 100% 40/40 [00:05<00:00,  7.34it/s]\n",
            "               classes   top1_acc   top5_acc: 100% 3/3 [00:00<00:00, 43.20it/s]\n",
            "                   all      0.934          1\n",
            "\n",
            "      Epoch    GPU_mem       loss  Instances       Size\n",
            "     70/100     0.401G    0.02516         16        128: 100% 40/40 [00:06<00:00,  6.32it/s]\n",
            "               classes   top1_acc   top5_acc: 100% 3/3 [00:00<00:00, 35.10it/s]\n",
            "                   all      0.934          1\n",
            "\n",
            "      Epoch    GPU_mem       loss  Instances       Size\n",
            "     71/100     0.401G    0.02316         16        128: 100% 40/40 [00:05<00:00,  7.79it/s]\n",
            "               classes   top1_acc   top5_acc: 100% 3/3 [00:00<00:00, 38.34it/s]\n",
            "                   all      0.945          1\n",
            "\n",
            "      Epoch    GPU_mem       loss  Instances       Size\n",
            "     72/100     0.401G    0.03954         16        128: 100% 40/40 [00:06<00:00,  6.55it/s]\n",
            "               classes   top1_acc   top5_acc: 100% 3/3 [00:00<00:00, 31.44it/s]\n",
            "                   all      0.934          1\n",
            "\n",
            "      Epoch    GPU_mem       loss  Instances       Size\n",
            "     73/100     0.401G    0.02064         16        128: 100% 40/40 [00:05<00:00,  7.59it/s]\n",
            "               classes   top1_acc   top5_acc: 100% 3/3 [00:00<00:00, 46.25it/s]\n",
            "                   all      0.945          1\n",
            "\n",
            "      Epoch    GPU_mem       loss  Instances       Size\n",
            "     74/100     0.401G    0.03416         16        128: 100% 40/40 [00:06<00:00,  6.24it/s]\n",
            "               classes   top1_acc   top5_acc: 100% 3/3 [00:00<00:00, 29.98it/s]\n",
            "                   all      0.956          1\n",
            "\n",
            "      Epoch    GPU_mem       loss  Instances       Size\n",
            "     75/100     0.401G    0.05612         16        128: 100% 40/40 [00:05<00:00,  7.66it/s]\n",
            "               classes   top1_acc   top5_acc: 100% 3/3 [00:00<00:00, 32.97it/s]\n",
            "                   all      0.956          1\n",
            "\n",
            "      Epoch    GPU_mem       loss  Instances       Size\n",
            "     76/100     0.401G    0.02484         16        128: 100% 40/40 [00:06<00:00,  6.48it/s]\n",
            "               classes   top1_acc   top5_acc: 100% 3/3 [00:00<00:00, 32.25it/s]\n",
            "                   all      0.967          1\n",
            "\n",
            "      Epoch    GPU_mem       loss  Instances       Size\n",
            "     77/100     0.401G    0.04006         16        128: 100% 40/40 [00:05<00:00,  7.77it/s]\n",
            "               classes   top1_acc   top5_acc: 100% 3/3 [00:00<00:00, 73.88it/s]\n",
            "                   all      0.956          1\n",
            "\n",
            "      Epoch    GPU_mem       loss  Instances       Size\n",
            "     78/100     0.401G    0.03916         16        128: 100% 40/40 [00:06<00:00,  6.32it/s]\n",
            "               classes   top1_acc   top5_acc: 100% 3/3 [00:00<00:00, 53.82it/s]\n",
            "                   all      0.967          1\n",
            "\n",
            "      Epoch    GPU_mem       loss  Instances       Size\n",
            "     79/100     0.401G     0.0277         16        128: 100% 40/40 [00:05<00:00,  7.44it/s]\n",
            "               classes   top1_acc   top5_acc: 100% 3/3 [00:00<00:00, 33.11it/s]\n",
            "                   all      0.967          1\n",
            "\n",
            "      Epoch    GPU_mem       loss  Instances       Size\n",
            "     80/100     0.401G    0.03451         16        128: 100% 40/40 [00:06<00:00,  6.44it/s]\n",
            "               classes   top1_acc   top5_acc: 100% 3/3 [00:00<00:00, 29.06it/s]\n",
            "                   all      0.956          1\n",
            "\n",
            "      Epoch    GPU_mem       loss  Instances       Size\n",
            "     81/100     0.401G    0.02183         16        128: 100% 40/40 [00:05<00:00,  7.53it/s]\n",
            "               classes   top1_acc   top5_acc: 100% 3/3 [00:00<00:00, 47.06it/s]\n",
            "                   all      0.956          1\n",
            "\n",
            "      Epoch    GPU_mem       loss  Instances       Size\n",
            "     82/100     0.401G    0.03137         16        128: 100% 40/40 [00:06<00:00,  6.26it/s]\n",
            "               classes   top1_acc   top5_acc: 100% 3/3 [00:00<00:00, 39.65it/s]\n",
            "                   all      0.945          1\n",
            "\n",
            "      Epoch    GPU_mem       loss  Instances       Size\n",
            "     83/100     0.401G    0.01983         16        128: 100% 40/40 [00:05<00:00,  7.66it/s]\n",
            "               classes   top1_acc   top5_acc: 100% 3/3 [00:00<00:00, 36.22it/s]\n",
            "                   all      0.945          1\n",
            "\n",
            "      Epoch    GPU_mem       loss  Instances       Size\n",
            "     84/100     0.401G    0.02418         16        128: 100% 40/40 [00:06<00:00,  6.25it/s]\n",
            "               classes   top1_acc   top5_acc: 100% 3/3 [00:00<00:00, 32.41it/s]\n",
            "                   all      0.945          1\n",
            "\n",
            "      Epoch    GPU_mem       loss  Instances       Size\n",
            "     85/100     0.401G     0.0358         16        128: 100% 40/40 [00:05<00:00,  7.61it/s]\n",
            "               classes   top1_acc   top5_acc: 100% 3/3 [00:00<00:00, 31.14it/s]\n",
            "                   all      0.956          1\n",
            "\n",
            "      Epoch    GPU_mem       loss  Instances       Size\n",
            "     86/100     0.401G    0.04245         16        128: 100% 40/40 [00:06<00:00,  6.53it/s]\n",
            "               classes   top1_acc   top5_acc: 100% 3/3 [00:00<00:00, 38.42it/s]\n",
            "                   all      0.945          1\n",
            "\n",
            "      Epoch    GPU_mem       loss  Instances       Size\n",
            "     87/100     0.401G    0.03449         16        128: 100% 40/40 [00:05<00:00,  7.74it/s]\n",
            "               classes   top1_acc   top5_acc: 100% 3/3 [00:00<00:00, 39.73it/s]\n",
            "                   all      0.934          1\n",
            "\n",
            "      Epoch    GPU_mem       loss  Instances       Size\n",
            "     88/100     0.401G    0.04873         16        128: 100% 40/40 [00:06<00:00,  6.22it/s]\n",
            "               classes   top1_acc   top5_acc: 100% 3/3 [00:00<00:00, 35.31it/s]\n",
            "                   all      0.945          1\n",
            "\n",
            "      Epoch    GPU_mem       loss  Instances       Size\n",
            "     89/100     0.401G    0.03601         16        128: 100% 40/40 [00:05<00:00,  7.54it/s]\n",
            "               classes   top1_acc   top5_acc: 100% 3/3 [00:00<00:00, 20.78it/s]\n",
            "                   all      0.945          1\n",
            "\n",
            "      Epoch    GPU_mem       loss  Instances       Size\n",
            "     90/100     0.401G    0.01777         16        128: 100% 40/40 [00:06<00:00,  6.38it/s]\n",
            "               classes   top1_acc   top5_acc: 100% 3/3 [00:00<00:00, 49.57it/s]\n",
            "                   all      0.945          1\n",
            "\n",
            "      Epoch    GPU_mem       loss  Instances       Size\n",
            "     91/100     0.401G    0.03223         16        128: 100% 40/40 [00:05<00:00,  7.28it/s]\n",
            "               classes   top1_acc   top5_acc: 100% 3/3 [00:00<00:00, 20.08it/s]\n",
            "                   all      0.945          1\n",
            "\n",
            "      Epoch    GPU_mem       loss  Instances       Size\n",
            "     92/100     0.401G    0.02047         16        128: 100% 40/40 [00:06<00:00,  6.42it/s]\n",
            "               classes   top1_acc   top5_acc: 100% 3/3 [00:00<00:00, 27.37it/s]\n",
            "                   all      0.945          1\n",
            "\n",
            "      Epoch    GPU_mem       loss  Instances       Size\n",
            "     93/100     0.401G    0.01828         16        128: 100% 40/40 [00:05<00:00,  7.55it/s]\n",
            "               classes   top1_acc   top5_acc: 100% 3/3 [00:00<00:00, 28.91it/s]\n",
            "                   all      0.945          1\n",
            "\n",
            "      Epoch    GPU_mem       loss  Instances       Size\n",
            "     94/100     0.401G    0.03582         16        128: 100% 40/40 [00:06<00:00,  6.25it/s]\n",
            "               classes   top1_acc   top5_acc: 100% 3/3 [00:00<00:00, 40.99it/s]\n",
            "                   all      0.956          1\n",
            "\n",
            "      Epoch    GPU_mem       loss  Instances       Size\n",
            "     95/100     0.401G    0.01395         16        128: 100% 40/40 [00:05<00:00,  7.73it/s]\n",
            "               classes   top1_acc   top5_acc: 100% 3/3 [00:00<00:00, 36.92it/s]\n",
            "                   all      0.934          1\n",
            "\n",
            "      Epoch    GPU_mem       loss  Instances       Size\n",
            "     96/100     0.401G    0.02469         16        128: 100% 40/40 [00:06<00:00,  6.34it/s]\n",
            "               classes   top1_acc   top5_acc: 100% 3/3 [00:00<00:00, 26.64it/s]\n",
            "                   all      0.956          1\n",
            "\n",
            "      Epoch    GPU_mem       loss  Instances       Size\n",
            "     97/100     0.401G    0.01696         16        128: 100% 40/40 [00:05<00:00,  7.92it/s]\n",
            "               classes   top1_acc   top5_acc: 100% 3/3 [00:00<00:00, 33.57it/s]\n",
            "                   all      0.934          1\n",
            "\n",
            "      Epoch    GPU_mem       loss  Instances       Size\n",
            "     98/100     0.401G    0.01691         16        128: 100% 40/40 [00:06<00:00,  6.17it/s]\n",
            "               classes   top1_acc   top5_acc: 100% 3/3 [00:00<00:00, 23.78it/s]\n",
            "                   all      0.956          1\n",
            "\n",
            "      Epoch    GPU_mem       loss  Instances       Size\n",
            "     99/100     0.401G    0.04171         16        128: 100% 40/40 [00:05<00:00,  7.59it/s]\n",
            "               classes   top1_acc   top5_acc: 100% 3/3 [00:00<00:00, 28.57it/s]\n",
            "                   all      0.945          1\n",
            "\n",
            "      Epoch    GPU_mem       loss  Instances       Size\n",
            "    100/100     0.401G    0.01136         16        128: 100% 40/40 [00:06<00:00,  6.30it/s]\n",
            "               classes   top1_acc   top5_acc: 100% 3/3 [00:00<00:00, 40.00it/s]\n",
            "                   all      0.956          1\n",
            "\n",
            "100 epochs completed in 0.177 hours.\n",
            "Optimizer stripped from runs/classify/train6/weights/last.pt, 3.0MB\n",
            "Optimizer stripped from runs/classify/train6/weights/best.pt, 3.0MB\n",
            "\n",
            "Validating runs/classify/train6/weights/best.pt...\n",
            "Ultralytics YOLOv8.1.42 🚀 Python-3.10.12 torch-2.2.1+cu121 CUDA:0 (Tesla T4, 15102MiB)\n",
            "YOLOv8n-cls summary (fused): 73 layers, 1437442 parameters, 0 gradients, 3.3 GFLOPs\n",
            "WARNING ⚠️ Dataset 'split=val' not found, using 'split=test' instead.\n",
            "\u001b[34m\u001b[1mtrain:\u001b[0m /content/datasets/oral-cancer-1/train... found 640 images in 2 classes ✅ \n",
            "\u001b[34m\u001b[1mval:\u001b[0m None...\n",
            "\u001b[34m\u001b[1mtest:\u001b[0m /content/datasets/oral-cancer-1/test... found 91 images in 2 classes ✅ \n",
            "               classes   top1_acc   top5_acc: 100% 3/3 [00:00<00:00, 13.06it/s]\n",
            "                   all      0.967          1\n",
            "Speed: 0.0ms preprocess, 1.1ms inference, 0.0ms loss, 0.0ms postprocess per image\n",
            "Results saved to \u001b[1mruns/classify/train6\u001b[0m\n",
            "Results saved to \u001b[1mruns/classify/train6\u001b[0m\n",
            "💡 Learn more at https://docs.ultralytics.com/modes/train\n"
          ]
        }
      ],
      "source": [
        "%cd {HOME}\n",
        "!yolo task=classify mode=train model=yolov8n-cls.pt data={dataset.location} epochs=100 imgsz=128"
      ]
    },
    {
      "cell_type": "code",
      "source": [
        "# prompt: FileNotFoundError: Couldn't find any class folder in /content/oral_cancer2-1/train.\n",
        "#  in above module\n",
        "\n",
        "%cd {HOME}\n",
        "!mkdir {HOME}/datasets\n",
        "%cd {HOME}/datasets\n",
        "!pip install roboflow\n",
        "rf = Roboflow(api_key=\"o56UWzw1HN4l7DA9pvWt\")\n",
        "project = rf.workspace(\"cancerresearch\").project(\"oral_cancer2\")\n",
        "version = project.version(1)\n",
        "dataset = version.download(\"multiclass\")\n",
        "\n",
        "# %cd {/content/}\n",
        "!yolo task=classify mode=train model=yolov8n-cls.pt data={dataset.location} epochs=50 imgsz=128"
      ],
      "metadata": {
        "colab": {
          "base_uri": "https://localhost:8080/"
        },
        "id": "3_SD-S1v6Y6H",
        "outputId": "68e9c9e8-0d8e-4db8-e1eb-e531ec124c80"
      },
      "execution_count": null,
      "outputs": [
        {
          "output_type": "stream",
          "name": "stdout",
          "text": [
            "/content\n",
            "mkdir: cannot create directory ‘/content/datasets’: File exists\n",
            "/content/datasets\n",
            "\u001b[33mWARNING: Ignoring invalid distribution -pencv-python-headless (/usr/local/lib/python3.10/dist-packages)\u001b[0m\u001b[33m\n",
            "\u001b[0mRequirement already satisfied: roboflow in /usr/local/lib/python3.10/dist-packages (1.1.26)\n",
            "Requirement already satisfied: certifi==2023.7.22 in /usr/local/lib/python3.10/dist-packages (from roboflow) (2023.7.22)\n",
            "Requirement already satisfied: chardet==4.0.0 in /usr/local/lib/python3.10/dist-packages (from roboflow) (4.0.0)\n",
            "Requirement already satisfied: cycler==0.10.0 in /usr/local/lib/python3.10/dist-packages (from roboflow) (0.10.0)\n",
            "Requirement already satisfied: idna==2.10 in /usr/local/lib/python3.10/dist-packages (from roboflow) (2.10)\n",
            "Requirement already satisfied: kiwisolver>=1.3.1 in /usr/local/lib/python3.10/dist-packages (from roboflow) (1.4.5)\n",
            "Requirement already satisfied: matplotlib in /usr/local/lib/python3.10/dist-packages (from roboflow) (3.7.1)\n",
            "Requirement already satisfied: numpy>=1.18.5 in /usr/local/lib/python3.10/dist-packages (from roboflow) (1.25.2)\n",
            "Requirement already satisfied: opencv-python-headless==4.8.0.74 in /usr/local/lib/python3.10/dist-packages (from roboflow) (4.8.0.74)\n",
            "Requirement already satisfied: Pillow>=7.1.2 in /usr/local/lib/python3.10/dist-packages (from roboflow) (9.4.0)\n",
            "Requirement already satisfied: python-dateutil in /usr/local/lib/python3.10/dist-packages (from roboflow) (2.8.2)\n",
            "Requirement already satisfied: python-dotenv in /usr/local/lib/python3.10/dist-packages (from roboflow) (1.0.1)\n",
            "Requirement already satisfied: requests in /usr/local/lib/python3.10/dist-packages (from roboflow) (2.31.0)\n",
            "Requirement already satisfied: six in /usr/local/lib/python3.10/dist-packages (from roboflow) (1.16.0)\n",
            "Requirement already satisfied: urllib3>=1.26.6 in /usr/local/lib/python3.10/dist-packages (from roboflow) (2.0.7)\n",
            "Requirement already satisfied: tqdm>=4.41.0 in /usr/local/lib/python3.10/dist-packages (from roboflow) (4.66.2)\n",
            "Requirement already satisfied: PyYAML>=5.3.1 in /usr/local/lib/python3.10/dist-packages (from roboflow) (6.0.1)\n",
            "Requirement already satisfied: requests-toolbelt in /usr/local/lib/python3.10/dist-packages (from roboflow) (1.0.0)\n",
            "Requirement already satisfied: python-magic in /usr/local/lib/python3.10/dist-packages (from roboflow) (0.4.27)\n",
            "Requirement already satisfied: contourpy>=1.0.1 in /usr/local/lib/python3.10/dist-packages (from matplotlib->roboflow) (1.2.0)\n",
            "Requirement already satisfied: fonttools>=4.22.0 in /usr/local/lib/python3.10/dist-packages (from matplotlib->roboflow) (4.50.0)\n",
            "Requirement already satisfied: packaging>=20.0 in /usr/local/lib/python3.10/dist-packages (from matplotlib->roboflow) (24.0)\n",
            "Requirement already satisfied: pyparsing>=2.3.1 in /usr/local/lib/python3.10/dist-packages (from matplotlib->roboflow) (3.1.2)\n",
            "Requirement already satisfied: charset-normalizer<4,>=2 in /usr/local/lib/python3.10/dist-packages (from requests->roboflow) (3.3.2)\n",
            "\u001b[33mWARNING: Ignoring invalid distribution -pencv-python-headless (/usr/local/lib/python3.10/dist-packages)\u001b[0m\u001b[33m\n",
            "loading Roboflow workspace...\n",
            "loading Roboflow project...\n",
            "Downloading https://github.com/ultralytics/assets/releases/download/v8.1.0/yolov8n-cls.pt to 'yolov8n-cls.pt'...\n",
            "100% 5.30M/5.30M [00:00<00:00, 93.9MB/s]\n",
            "Ultralytics YOLOv8.1.42 🚀 Python-3.10.12 torch-2.2.1+cu121 CUDA:0 (Tesla T4, 15102MiB)\n",
            "\u001b[34m\u001b[1mengine/trainer: \u001b[0mtask=classify, mode=train, model=yolov8n-cls.pt, data=/content/datasets/oral_cancer2-1, epochs=50, time=None, patience=100, batch=16, imgsz=128, save=True, save_period=-1, cache=False, device=None, workers=8, project=None, name=train, exist_ok=False, pretrained=True, optimizer=auto, verbose=True, seed=0, deterministic=True, single_cls=False, rect=False, cos_lr=False, close_mosaic=10, resume=False, amp=True, fraction=1.0, profile=False, freeze=None, multi_scale=False, overlap_mask=True, mask_ratio=4, dropout=0.0, val=True, split=val, save_json=False, save_hybrid=False, conf=None, iou=0.7, max_det=300, half=False, dnn=False, plots=True, source=None, vid_stride=1, stream_buffer=False, visualize=False, augment=False, agnostic_nms=False, classes=None, retina_masks=False, embed=None, show=False, save_frames=False, save_txt=False, save_conf=False, save_crop=False, show_labels=True, show_conf=True, show_boxes=True, line_width=None, format=torchscript, keras=False, optimize=False, int8=False, dynamic=False, simplify=False, opset=None, workspace=4, nms=False, lr0=0.01, lrf=0.01, momentum=0.937, weight_decay=0.0005, warmup_epochs=3.0, warmup_momentum=0.8, warmup_bias_lr=0.1, box=7.5, cls=0.5, dfl=1.5, pose=12.0, kobj=1.0, label_smoothing=0.0, nbs=64, hsv_h=0.015, hsv_s=0.7, hsv_v=0.4, degrees=0.0, translate=0.1, scale=0.5, shear=0.0, perspective=0.0, flipud=0.0, fliplr=0.5, bgr=0.0, mosaic=1.0, mixup=0.0, copy_paste=0.0, auto_augment=randaugment, erasing=0.4, crop_fraction=1.0, cfg=None, tracker=botsort.yaml, save_dir=runs/classify/train\n",
            "\u001b[34m\u001b[1mtrain:\u001b[0m /content/datasets/oral_cancer2-1/train... found 1920 images in 1 classes: ERROR ❌️ requires 0 classes, not 1\n",
            "\u001b[34m\u001b[1mval:\u001b[0m None...\n",
            "\u001b[34m\u001b[1mtest:\u001b[0m /content/datasets/oral_cancer2-1/test... found 92 images in 1 classes: ERROR ❌️ requires 0 classes, not 1\n",
            "2024-04-02 17:52:00.447312: E external/local_xla/xla/stream_executor/cuda/cuda_dnn.cc:9261] Unable to register cuDNN factory: Attempting to register factory for plugin cuDNN when one has already been registered\n",
            "2024-04-02 17:52:00.447381: E external/local_xla/xla/stream_executor/cuda/cuda_fft.cc:607] Unable to register cuFFT factory: Attempting to register factory for plugin cuFFT when one has already been registered\n",
            "2024-04-02 17:52:00.448663: E external/local_xla/xla/stream_executor/cuda/cuda_blas.cc:1515] Unable to register cuBLAS factory: Attempting to register factory for plugin cuBLAS when one has already been registered\n",
            "\n",
            "                   from  n    params  module                                       arguments                     \n",
            "  0                  -1  1       464  ultralytics.nn.modules.conv.Conv             [3, 16, 3, 2]                 \n",
            "  1                  -1  1      4672  ultralytics.nn.modules.conv.Conv             [16, 32, 3, 2]                \n",
            "  2                  -1  1      7360  ultralytics.nn.modules.block.C2f             [32, 32, 1, True]             \n",
            "  3                  -1  1     18560  ultralytics.nn.modules.conv.Conv             [32, 64, 3, 2]                \n",
            "  4                  -1  2     49664  ultralytics.nn.modules.block.C2f             [64, 64, 2, True]             \n",
            "  5                  -1  1     73984  ultralytics.nn.modules.conv.Conv             [64, 128, 3, 2]               \n",
            "  6                  -1  2    197632  ultralytics.nn.modules.block.C2f             [128, 128, 2, True]           \n",
            "  7                  -1  1    295424  ultralytics.nn.modules.conv.Conv             [128, 256, 3, 2]              \n",
            "  8                  -1  1    460288  ultralytics.nn.modules.block.C2f             [256, 256, 1, True]           \n",
            "  9                  -1  1   1611240  ultralytics.nn.modules.head.Classify         [256, 1000]                   \n",
            "YOLOv8n-cls summary: 99 layers, 2719288 parameters, 2719288 gradients, 4.4 GFLOPs\n",
            "Transferred 158/158 items from pretrained weights\n",
            "\u001b[34m\u001b[1mTensorBoard: \u001b[0mStart with 'tensorboard --logdir runs/classify/train', view at http://localhost:6006/\n",
            "\u001b[34m\u001b[1mAMP: \u001b[0mrunning Automatic Mixed Precision (AMP) checks with YOLOv8n...\n",
            "Downloading https://github.com/ultralytics/assets/releases/download/v8.1.0/yolov8n.pt to 'yolov8n.pt'...\n",
            "100% 6.23M/6.23M [00:00<00:00, 116MB/s]\n",
            "\u001b[34m\u001b[1mAMP: \u001b[0mchecks passed ✅\n",
            "Traceback (most recent call last):\n",
            "  File \"/usr/local/bin/yolo\", line 8, in <module>\n",
            "    sys.exit(entrypoint())\n",
            "  File \"/usr/local/lib/python3.10/dist-packages/ultralytics/cfg/__init__.py\", line 582, in entrypoint\n",
            "    getattr(model, mode)(**overrides)  # default args from model\n",
            "  File \"/usr/local/lib/python3.10/dist-packages/ultralytics/engine/model.py\", line 667, in train\n",
            "    self.trainer.train()\n",
            "  File \"/usr/local/lib/python3.10/dist-packages/ultralytics/engine/trainer.py\", line 198, in train\n",
            "    self._do_train(world_size)\n",
            "  File \"/usr/local/lib/python3.10/dist-packages/ultralytics/engine/trainer.py\", line 312, in _do_train\n",
            "    self._setup_train(world_size)\n",
            "  File \"/usr/local/lib/python3.10/dist-packages/ultralytics/engine/trainer.py\", line 276, in _setup_train\n",
            "    self.train_loader = self.get_dataloader(self.trainset, batch_size=batch_size, rank=RANK, mode=\"train\")\n",
            "  File \"/usr/local/lib/python3.10/dist-packages/ultralytics/models/yolo/classify/train.py\", line 88, in get_dataloader\n",
            "    dataset = self.build_dataset(dataset_path, mode)\n",
            "  File \"/usr/local/lib/python3.10/dist-packages/ultralytics/models/yolo/classify/train.py\", line 83, in build_dataset\n",
            "    return ClassificationDataset(root=img_path, args=self.args, augment=mode == \"train\", prefix=mode)\n",
            "  File \"/usr/local/lib/python3.10/dist-packages/ultralytics/data/dataset.py\", line 281, in __init__\n",
            "    super().__init__(root=root)\n",
            "  File \"/usr/local/lib/python3.10/dist-packages/torchvision/datasets/folder.py\", line 309, in __init__\n",
            "    super().__init__(\n",
            "  File \"/usr/local/lib/python3.10/dist-packages/torchvision/datasets/folder.py\", line 144, in __init__\n",
            "    classes, class_to_idx = self.find_classes(self.root)\n",
            "  File \"/usr/local/lib/python3.10/dist-packages/torchvision/datasets/folder.py\", line 218, in find_classes\n",
            "    return find_classes(directory)\n",
            "  File \"/usr/local/lib/python3.10/dist-packages/torchvision/datasets/folder.py\", line 42, in find_classes\n",
            "    raise FileNotFoundError(f\"Couldn't find any class folder in {directory}.\")\n",
            "FileNotFoundError: Couldn't find any class folder in /content/datasets/oral_cancer2-1/train.\n"
          ]
        }
      ]
    },
    {
      "cell_type": "code",
      "execution_count": null,
      "metadata": {
        "colab": {
          "base_uri": "https://localhost:8080/"
        },
        "id": "1MScstfHhArr",
        "outputId": "b84c05db-6914-437d-a983-1d41bc6e20cf"
      },
      "outputs": [
        {
          "output_type": "stream",
          "name": "stdout",
          "text": [
            "total 408\n",
            "drwxr-xr-x 3 root root   4096 Apr  4 03:59 .\n",
            "drwxr-xr-x 4 root root   4096 Apr  4 03:58 ..\n",
            "-rw-r--r-- 1 root root   1556 Apr  4 03:58 args.yaml\n",
            "-rw-r--r-- 1 root root 232106 Apr  4 03:59 events.out.tfevents.1712203139.d27792c4f1a1.6414.0\n",
            "-rw-r--r-- 1 root root  53789 Apr  4 03:59 train_batch0.jpg\n",
            "-rw-r--r-- 1 root root  56739 Apr  4 03:59 train_batch1.jpg\n",
            "-rw-r--r-- 1 root root  51837 Apr  4 03:59 train_batch2.jpg\n",
            "drwxr-xr-x 2 root root   4096 Apr  4 03:58 weights\n"
          ]
        }
      ],
      "source": [
        "!ls -la {HOME}/runs/classify/train2"
      ]
    },
    {
      "cell_type": "code",
      "execution_count": null,
      "metadata": {
        "colab": {
          "base_uri": "https://localhost:8080/"
        },
        "id": "U_ZOpnH9scaU",
        "outputId": "8d1ef406-7dc2-4b71-fbf6-a0b957596ee1"
      },
      "outputs": [
        {
          "name": "stdout",
          "output_type": "stream",
          "text": [
            "                  epoch,             train/loss,  metrics/accuracy_top1,  metrics/accuracy_top5,               val/loss,                 lr/pg0,                 lr/pg1,                 lr/pg2\n",
            "                      0,                0.26657,                 0.7242,                      1,                0.69499,                    0.1,                    0.1,                    0.1\n",
            "                      1,                0.17981,                0.83452,                      1,                0.41385,                    0.1,                    0.1,                    0.1\n",
            "                      2,                0.15695,                0.86477,                      1,                0.39399,                0.09802,                0.09802,                0.09802\n",
            "                      3,                0.14038,                0.89146,                      1,                0.32446,                0.09604,                0.09604,                0.09604\n",
            "                      4,                0.13061,                0.89146,                      1,                0.31535,                0.09406,                0.09406,                0.09406\n",
            "                      5,                0.11974,                0.90391,                      1,                0.22824,                0.09208,                0.09208,                0.09208\n",
            "                      6,                0.11335,                0.90925,                      1,                 0.2659,                 0.0901,                 0.0901,                 0.0901\n",
            "                      7,                0.10687,                0.92349,                      1,                0.23045,                0.08812,                0.08812,                0.08812\n",
            "                      8,                0.09837,                0.93772,                      1,                0.20348,                0.08614,                0.08614,                0.08614\n"
          ]
        }
      ],
      "source": [
        "!cat {HOME}/runs/classify/train/results.csv | head -10"
      ]
    },
    {
      "cell_type": "markdown",
      "metadata": {
        "id": "6ODk1VTlevxn"
      },
      "source": [
        "## Validate Custom Model"
      ]
    },
    {
      "cell_type": "code",
      "execution_count": null,
      "metadata": {
        "colab": {
          "base_uri": "https://localhost:8080/"
        },
        "id": "YpyuwrNlXc1P",
        "outputId": "31ff74f6-a518-44ee-b885-5761a8d98f2a"
      },
      "outputs": [
        {
          "name": "stdout",
          "output_type": "stream",
          "text": [
            "/content\n",
            "Ultralytics YOLOv8.0.9 🚀 Python-3.8.10 torch-1.13.1+cu116 CUDA:0 (Tesla T4, 15110MiB)\n",
            "Fusing layers... \n",
            "YOLOv8n-cls summary: 73 layers, 1440004 parameters, 0 gradients, 3.3 GFLOPs\n",
            "\u001b[34m\u001b[1malbumentations: \u001b[0mRandomResizedCrop(p=1.0, height=640, width=640, scale=(0.08, 1.0), ratio=(0.75, 1.3333333333333333), interpolation=1), HorizontalFlip(p=0.5), ColorJitter(p=0.5, brightness=[0.6, 1.4], contrast=[0.6, 1.4], saturation=[0.6, 1.4], hue=[0, 0]), Normalize(p=1.0, mean=(0.485, 0.456, 0.406), std=(0.229, 0.224, 0.225), max_pixel_value=255.0), ToTensorV2(always_apply=True, p=1.0, transpose_mask=False)\n",
            "               classes   top1_acc   top5_acc: 100% 36/36 [00:08<00:00,  4.47it/s]\n",
            "                   all      0.726          1\n",
            "Speed: 0.4ms pre-process, 2.6ms inference, 0.0ms loss, 0.0ms post-process per image\n"
          ]
        }
      ],
      "source": [
        "%cd {HOME}\n",
        "\n",
        "!yolo task=classify mode=val model={HOME}/runs/classify/train/weights/best.pt data={dataset.location}"
      ]
    },
    {
      "cell_type": "markdown",
      "metadata": {
        "id": "i4eASbcWkQBq"
      },
      "source": [
        "## Inference with Custom Model"
      ]
    },
    {
      "cell_type": "code",
      "execution_count": null,
      "metadata": {
        "colab": {
          "base_uri": "https://localhost:8080/"
        },
        "id": "Wjc1ctZykYuf",
        "outputId": "1db36279-4bb7-4f70-ab89-a86c00baa361"
      },
      "outputs": [
        {
          "output_type": "stream",
          "name": "stdout",
          "text": [
            "/content\n",
            "Ultralytics YOLOv8.1.42 🚀 Python-3.10.12 torch-2.2.1+cu121 CPU (Intel Xeon 2.20GHz)\n",
            "YOLOv8n-cls summary (fused): 73 layers, 1437442 parameters, 0 gradients, 3.3 GFLOPs\n",
            "\n",
            "Traceback (most recent call last):\n",
            "  File \"/usr/local/bin/yolo\", line 8, in <module>\n",
            "    sys.exit(entrypoint())\n",
            "  File \"/usr/local/lib/python3.10/dist-packages/ultralytics/cfg/__init__.py\", line 582, in entrypoint\n",
            "    getattr(model, mode)(**overrides)  # default args from model\n",
            "  File \"/usr/local/lib/python3.10/dist-packages/ultralytics/engine/model.py\", line 451, in predict\n",
            "    return self.predictor.predict_cli(source=source) if is_cli else self.predictor(source=source, stream=stream)\n",
            "  File \"/usr/local/lib/python3.10/dist-packages/ultralytics/engine/predictor.py\", line 177, in predict_cli\n",
            "    for _ in gen:  # noqa, running CLI inference without accumulating any outputs (do not modify)\n",
            "  File \"/usr/local/lib/python3.10/dist-packages/torch/utils/_contextlib.py\", line 35, in generator_context\n",
            "    response = gen.send(None)\n",
            "  File \"/usr/local/lib/python3.10/dist-packages/ultralytics/engine/predictor.py\", line 220, in stream_inference\n",
            "    self.setup_source(source if source is not None else self.args.source)\n",
            "  File \"/usr/local/lib/python3.10/dist-packages/ultralytics/engine/predictor.py\", line 192, in setup_source\n",
            "    self.dataset = load_inference_source(\n",
            "  File \"/usr/local/lib/python3.10/dist-packages/ultralytics/data/build.py\", line 203, in load_inference_source\n",
            "    dataset = LoadImagesAndVideos(source, batch=batch, vid_stride=vid_stride)\n",
            "  File \"/usr/local/lib/python3.10/dist-packages/ultralytics/data/loaders.py\", line 292, in __init__\n",
            "    raise FileNotFoundError(f\"{p} does not exist\")\n",
            "FileNotFoundError: /content/datasets/oral-cancer-1/test/overripe does not exist\n"
          ]
        }
      ],
      "source": [
        "%cd {HOME}\n",
        "!yolo task=classify mode=predict model={HOME}/runs/classify/train/weights/best.pt conf=0.25 source={dataset.location}/test/overripe"
      ]
    },
    {
      "cell_type": "code",
      "execution_count": null,
      "metadata": {
        "colab": {
          "base_uri": "https://localhost:8080/",
          "height": 1000
        },
        "id": "jbVjEtPAkz3j",
        "outputId": "90279548-d1a9-4b50-c1db-a04d5282871e"
      },
      "outputs": [
        {
          "data": {
            "image/jpeg": "[encoded data removed]",
            "text/plain": [
              "<IPython.core.display.Image object>"
            ]
          },
          "metadata": {
            "image/jpeg": {
              "width": 600
            }
          },
          "output_type": "display_data"
        },
        {
          "name": "stdout",
          "output_type": "stream",
          "text": [
            "\n",
            "\n"
          ]
        },
        {
          "data": {
            "image/jpeg": "[encoded data removed]",
            "text/plain": [
              "<IPython.core.display.Image object>"
            ]
          },
          "metadata": {
            "image/jpeg": {
              "width": 600
            }
          },
          "output_type": "display_data"
        },
        {
          "name": "stdout",
          "output_type": "stream",
          "text": [
            "\n",
            "\n"
          ]
        },
        {
          "data": {
            "image/jpeg": "[encoded data removed]",
            "text/plain": [
              "<IPython.core.display.Image object>"
            ]
          },
          "metadata": {
            "image/jpeg": {
              "width": 600
            }
          },
          "output_type": "display_data"
        },
        {
          "name": "stdout",
          "output_type": "stream",
          "text": [
            "\n",
            "\n"
          ]
        }
      ],
      "source": [
        "import glob\n",
        "from IPython.display import Image, display\n",
        "\n",
        "for image_path in glob.glob(f'{HOME}/runs/classify/predict/*.jpg')[:3]:\n",
        "      display(Image(filename=image_path, width=600))\n",
        "      print(\"\\n\")"
      ]
    },
    {
      "cell_type": "markdown",
      "metadata": {
        "id": "0Q0bnwhj4vqc"
      },
      "source": [
        "## Save and Deploy model\n",
        "\n",
        "Once you have finished training your YOLOv8 model, you’ll have a set of trained weights ready for use. These weights will be in the `/runs/classify/train/weights/best.pt` folder of your project. You can upload and your model weights to Roboflow Deploy for autolabeling, autoscaling inference, and using later.\n",
        "\n",
        "The `.deploy()` function in the [Roboflow pip package](https://docs.roboflow.com/python) supports uploading YOLOv8 weights.\n",
        "\n",
        "Run this cell to save your model weights:"
      ]
    },
    {
      "cell_type": "code",
      "execution_count": null,
      "metadata": {
        "id": "eS5R9Ue_4vqc"
      },
      "outputs": [],
      "source": [
        "project.version(dataset.version).deploy(model_type=\"yolov8-cls\", model_path=f\"{HOME}/runs/classify/train/\")"
      ]
    },
    {
      "cell_type": "markdown",
      "metadata": {
        "id": "B23aSxnc4vqd"
      },
      "source": [
        "# Deploy Your Model to the Edge\n",
        "\n",
        "![Roboflow Inference banner](https://blog.roboflow.com/content/images/2023/08/banner.png)\n",
        "\n",
        "In addition to using the Roboflow hosted API for deployment, you can use [Roboflow Inference](https://inference.roboflow.com), an open source inference solution that has powered millions of API calls in production environments. Inference works with CPU and GPU, giving you immediate access to a range of devices, from the NVIDIA Jetson to TRT-compatible devices to ARM CPU devices.\n",
        "\n",
        "With Roboflow Inference, you can self-host and deploy your model on-device. You can deploy applications using the [Inference Docker containers](https://inference.roboflow.com/quickstart/docker/) or the pip package.\n",
        "\n",
        "For example, to install Inference on a device with an NVIDIA GPU, we can use:\n",
        "\n",
        "```\n",
        "docker pull roboflow/roboflow-inference-server-gpu\n",
        "```\n",
        "\n",
        "Then we can run inference via HTTP:\n",
        "\n",
        "```python\n",
        "import requests\n",
        "\n",
        "workspace_id = \"\"\n",
        "model_id = \"\"\n",
        "image_url = \"\"\n",
        "confidence = 0.75\n",
        "api_key = \"\"\n",
        "\n",
        "infer_payload = {\n",
        "    \"image\": {\n",
        "        \"type\": \"url\",\n",
        "        \"value\": image_url,\n",
        "    },\n",
        "    \"confidence\": confidence,\n",
        "    \"iou_threshold\": iou_thresh,\n",
        "    \"api_key\": api_key,\n",
        "}\n",
        "res = requests.post(\n",
        "    f\"http://localhost:9001/{workspace_id}/{model_id}\",\n",
        "    json=infer_object_detection_payload,\n",
        ")\n",
        "\n",
        "predictions = res.json()\n",
        "```\n",
        "\n",
        "Above, set your Roboflow workspace ID, model ID, and API key.\n",
        "\n",
        "- [Find your workspace and model ID](https://docs.roboflow.com/api-reference/workspace-and-project-ids?ref=blog.roboflow.com)\n",
        "- [Find your API key](https://docs.roboflow.com/api-reference/authentication?ref=blog.roboflow.com#retrieve-an-api-key)\n",
        "\n",
        "Also, set the URL of an image on which you want to run inference. This can be a local file.\n",
        "\n",
        "_To use your YOLOv8 model commercially with Inference, you will need a Roboflow Enterprise license, through which you gain a pass-through license for using YOLOv8. An enterprise license also grants you access to features like advanced device management, multi-model containers, auto-batch inference, and more._"
      ]
    },
    {
      "cell_type": "markdown",
      "metadata": {
        "id": "ovQgOj_xSNDg"
      },
      "source": [
        "## 🏆 Congratulations\n",
        "\n",
        "### Learning Resources\n",
        "\n",
        "Roboflow has produced many resources that you may find interesting as you advance your knowledge of computer vision:\n",
        "\n",
        "- [Roboflow Notebooks](https://github.com/roboflow/notebooks): A repository of over 20 notebooks that walk through how to train custom models with a range of model types, from YOLOv7 to SegFormer.\n",
        "- [Roboflow YouTube](https://www.youtube.com/c/Roboflow): Our library of videos featuring deep dives into the latest in computer vision, detailed tutorials that accompany our notebooks, and more.\n",
        "- [Roboflow Discuss](https://discuss.roboflow.com/): Have a question about how to do something on Roboflow? Ask your question on our discussion forum.\n",
        "- [Roboflow Models](https://roboflow.com): Learn about state-of-the-art models and their performance. Find links and tutorials to guide your learning.\n",
        "\n",
        "### Convert data formats\n",
        "\n",
        "Roboflow provides free utilities to convert data between dozens of popular computer vision formats. Check out [Roboflow Formats](https://roboflow.com/formats) to find tutorials on how to convert data between formats in a few clicks.\n",
        "\n",
        "### Connect computer vision to your project logic\n",
        "\n",
        "[Roboflow Templates](https://roboflow.com/templates) is a public gallery of code snippets that you can use to connect computer vision to your project logic. Code snippets range from sending emails after inference to measuring object distance between detections."
      ]
    }
  ],
  "metadata": {
    "colab": {
      "provenance": [],
      "gpuType": "T4"
    },
    "kernelspec": {
      "display_name": "Python 3",
      "name": "python3"
    },
    "language_info": {
      "codemirror_mode": {
        "name": "ipython",
        "version": 3
      },
      "file_extension": ".py",
      "mimetype": "text/x-python",
      "name": "python",
      "nbconvert_exporter": "python",
      "pygments_lexer": "ipython3",
      "version": "3.9.0"
    },
    "accelerator": "GPU"
  },
  "nbformat": 4,
  "nbformat_minor": 0
}